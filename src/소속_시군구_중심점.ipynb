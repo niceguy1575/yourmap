{
 "cells": [
  {
   "cell_type": "code",
   "execution_count": 29,
   "metadata": {},
   "outputs": [],
   "source": [
    "import geopandas as gpd\n",
    "import pandas as pd\n",
    "from glob import glob\n",
    "from plotly.offline import plot\n",
    "from shapely.geometry import Point\n",
    "\n",
    "import re\n",
    "\n",
    "%matplotlib inline\n"
   ]
  },
  {
   "cell_type": "code",
   "execution_count": 164,
   "metadata": {},
   "outputs": [],
   "source": [
    "# 행정동 정보 \n",
    "files = glob(\"*.shp\")\n",
    "\n",
    "shp = pd.concat([gpd.read_file(file,encoding = 'cp949') for file in files]).reset_index(drop = True)\n",
    "\n",
    "df = pd.read_csv(\"당신의 사는곳을 알려주세요 9572172efb494f81a1243b25bad749d8.csv\")\n",
    "df = df[df.columns[:3]].dropna()"
   ]
  },
  {
   "cell_type": "code",
   "execution_count": 168,
   "metadata": {},
   "outputs": [
    {
     "data": {
      "text/html": [
       "<div>\n",
       "<style scoped>\n",
       "    .dataframe tbody tr th:only-of-type {\n",
       "        vertical-align: middle;\n",
       "    }\n",
       "\n",
       "    .dataframe tbody tr th {\n",
       "        vertical-align: top;\n",
       "    }\n",
       "\n",
       "    .dataframe thead th {\n",
       "        text-align: right;\n",
       "    }\n",
       "</style>\n",
       "<table border=\"1\" class=\"dataframe\">\n",
       "  <thead>\n",
       "    <tr style=\"text-align: right;\">\n",
       "      <th></th>\n",
       "      <th>Name</th>\n",
       "      <th>시도명</th>\n",
       "      <th>시군구명</th>\n",
       "    </tr>\n",
       "  </thead>\n",
       "  <tbody>\n",
       "    <tr>\n",
       "      <th>3</th>\n",
       "      <td>안성준</td>\n",
       "      <td>양주시</td>\n",
       "      <td>백석읍</td>\n",
       "    </tr>\n",
       "  </tbody>\n",
       "</table>\n",
       "</div>"
      ],
      "text/plain": [
       "  Name  시도명 시군구명\n",
       "3  안성준  양주시  백석읍"
      ]
     },
     "execution_count": 168,
     "metadata": {},
     "output_type": "execute_result"
    }
   ],
   "source": [
    "df[df.시도명 == '양주시'] #.. 으으"
   ]
  },
  {
   "cell_type": "code",
   "execution_count": 171,
   "metadata": {},
   "outputs": [],
   "source": [
    "df.loc[df.시도명 == '양주시','시도명'] = '경기도'\n",
    "df.loc[df.시군구명 == '백석읍','시군구명'] = '양주시'"
   ]
  },
  {
   "cell_type": "markdown",
   "metadata": {},
   "source": [
    "# 띄어쓰기 제거 "
   ]
  },
  {
   "cell_type": "code",
   "execution_count": 176,
   "metadata": {},
   "outputs": [],
   "source": [
    "megas = df.시도명.apply(lambda x: x.replace(\" \",\"\"))\n",
    "\n",
    "sggs= df.시군구명.apply(lambda x: x.replace(\" \",''))"
   ]
  },
  {
   "cell_type": "code",
   "execution_count": null,
   "metadata": {},
   "outputs": [],
   "source": [
    "# 중심점 계산 후 리스트로 저장 "
   ]
  },
  {
   "cell_type": "code",
   "execution_count": null,
   "metadata": {},
   "outputs": [],
   "source": [
    "for mega,sgg in zip(megas,sggs):"
   ]
  },
  {
   "cell_type": "code",
   "execution_count": 227,
   "metadata": {},
   "outputs": [
    {
     "data": {
      "text/plain": [
       "[<shapely.geometry.point.Point at 0x7fa599e16320>]"
      ]
     },
     "execution_count": 227,
     "metadata": {},
     "output_type": "execute_result"
    }
   ],
   "source": [
    "\n",
    "shp[((shp.MEGA_NM.apply(lambda x: re.search(mega,x)).isna()==False)&(shp.SIG_KOR_NM.apply(lambda x: re.search(sgg,x)).isna()==False))].centroid.tolist()\n"
   ]
  },
  {
   "cell_type": "code",
   "execution_count": null,
   "metadata": {},
   "outputs": [],
   "source": []
  },
  {
   "cell_type": "code",
   "execution_count": 180,
   "metadata": {},
   "outputs": [],
   "source": [
    "centroid = [shp[((shp.MEGA_NM.apply(lambda x: re.search(mega,x)).isna()==False)&(shp.SIG_KOR_NM.apply(lambda x: re.search(sgg,x)).isna()==False))].centroid.tolist()[0] for mega,sgg in zip(megas,sggs)]\n",
    "\n",
    "df['centroid'] = centroid"
   ]
  },
  {
   "cell_type": "code",
   "execution_count": 188,
   "metadata": {},
   "outputs": [
    {
     "data": {
      "text/html": [
       "<div>\n",
       "<style scoped>\n",
       "    .dataframe tbody tr th:only-of-type {\n",
       "        vertical-align: middle;\n",
       "    }\n",
       "\n",
       "    .dataframe tbody tr th {\n",
       "        vertical-align: top;\n",
       "    }\n",
       "\n",
       "    .dataframe thead th {\n",
       "        text-align: right;\n",
       "    }\n",
       "</style>\n",
       "<table border=\"1\" class=\"dataframe\">\n",
       "  <thead>\n",
       "    <tr style=\"text-align: right;\">\n",
       "      <th></th>\n",
       "      <th>Name</th>\n",
       "      <th>시도명</th>\n",
       "      <th>시군구명</th>\n",
       "      <th>centroid</th>\n",
       "    </tr>\n",
       "  </thead>\n",
       "  <tbody>\n",
       "    <tr>\n",
       "      <th>1</th>\n",
       "      <td>이종원</td>\n",
       "      <td>서울시</td>\n",
       "      <td>양천구</td>\n",
       "      <td>POINT (943049.1483472434 1947471.644039042)</td>\n",
       "    </tr>\n",
       "    <tr>\n",
       "      <th>2</th>\n",
       "      <td>이정훈</td>\n",
       "      <td>서울시</td>\n",
       "      <td>강서구</td>\n",
       "      <td>POINT (940191.387102065 1951535.447214201)</td>\n",
       "    </tr>\n",
       "    <tr>\n",
       "      <th>3</th>\n",
       "      <td>안성준</td>\n",
       "      <td>경기도</td>\n",
       "      <td>양주시</td>\n",
       "      <td>POINT (977391.3276712752 1962588.959609232)</td>\n",
       "    </tr>\n",
       "    <tr>\n",
       "      <th>4</th>\n",
       "      <td>박범수</td>\n",
       "      <td>서울시</td>\n",
       "      <td>동대문구</td>\n",
       "      <td>POINT (960695.9357565708 1953711.983295836)</td>\n",
       "    </tr>\n",
       "    <tr>\n",
       "      <th>5</th>\n",
       "      <td>최규진</td>\n",
       "      <td>서울시</td>\n",
       "      <td>서대문구</td>\n",
       "      <td>POINT (950470.0186996566 1953303.946911824)</td>\n",
       "    </tr>\n",
       "    <tr>\n",
       "      <th>6</th>\n",
       "      <td>김지선</td>\n",
       "      <td>서울시</td>\n",
       "      <td>중구</td>\n",
       "      <td>POINT (955484.1952980496 1951318.203971829)</td>\n",
       "    </tr>\n",
       "    <tr>\n",
       "      <th>7</th>\n",
       "      <td>김준서</td>\n",
       "      <td>인천시</td>\n",
       "      <td>부평구</td>\n",
       "      <td>POINT (931159.0238156538 1944440.436989765)</td>\n",
       "    </tr>\n",
       "    <tr>\n",
       "      <th>8</th>\n",
       "      <td>박광해</td>\n",
       "      <td>서울시</td>\n",
       "      <td>관악구</td>\n",
       "      <td>POINT (950951.7866165609 1941051.326338609)</td>\n",
       "    </tr>\n",
       "    <tr>\n",
       "      <th>9</th>\n",
       "      <td>이채욱</td>\n",
       "      <td>서울시</td>\n",
       "      <td>영등포구</td>\n",
       "      <td>POINT (947880.1097111189 1947164.667821349)</td>\n",
       "    </tr>\n",
       "    <tr>\n",
       "      <th>10</th>\n",
       "      <td>양건필</td>\n",
       "      <td>서울시</td>\n",
       "      <td>강남구</td>\n",
       "      <td>POINT (961370.4031234696 1944243.66399422)</td>\n",
       "    </tr>\n",
       "    <tr>\n",
       "      <th>11</th>\n",
       "      <td>김경린</td>\n",
       "      <td>경기도</td>\n",
       "      <td>고양시 덕양구</td>\n",
       "      <td>POINT (945191.2951447612 1961994.076161079)</td>\n",
       "    </tr>\n",
       "    <tr>\n",
       "      <th>12</th>\n",
       "      <td>백정희</td>\n",
       "      <td>서울시</td>\n",
       "      <td>용산구</td>\n",
       "      <td>POINT (954048.023713753 1948135.318485856)</td>\n",
       "    </tr>\n",
       "    <tr>\n",
       "      <th>13</th>\n",
       "      <td>이은용</td>\n",
       "      <td>경기도</td>\n",
       "      <td>군포시</td>\n",
       "      <td>POINT (948727.2133086865 1927319.223434611)</td>\n",
       "    </tr>\n",
       "    <tr>\n",
       "      <th>14</th>\n",
       "      <td>도상혁</td>\n",
       "      <td>서울시</td>\n",
       "      <td>동작구</td>\n",
       "      <td>POINT (951529.6281257888 1944542.918610469)</td>\n",
       "    </tr>\n",
       "    <tr>\n",
       "      <th>15</th>\n",
       "      <td>조유연</td>\n",
       "      <td>경기도</td>\n",
       "      <td>하남시</td>\n",
       "      <td>POINT (974016.2308346117 1947098.003847352)</td>\n",
       "    </tr>\n",
       "    <tr>\n",
       "      <th>16</th>\n",
       "      <td>김남주</td>\n",
       "      <td>서울시</td>\n",
       "      <td>서대문구</td>\n",
       "      <td>POINT (950470.0186996566 1953303.946911824)</td>\n",
       "    </tr>\n",
       "    <tr>\n",
       "      <th>17</th>\n",
       "      <td>홍진규</td>\n",
       "      <td>경기도</td>\n",
       "      <td>고양시 일산서구</td>\n",
       "      <td>POINT (931925.20898573 1964799.407044221)</td>\n",
       "    </tr>\n",
       "    <tr>\n",
       "      <th>18</th>\n",
       "      <td>송정은</td>\n",
       "      <td>인천시</td>\n",
       "      <td>서구</td>\n",
       "      <td>POINT (925487.8293929026 1951275.585318534)</td>\n",
       "    </tr>\n",
       "    <tr>\n",
       "      <th>19</th>\n",
       "      <td>김찬준</td>\n",
       "      <td>서울시</td>\n",
       "      <td>강서구</td>\n",
       "      <td>POINT (940191.387102065 1951535.447214201)</td>\n",
       "    </tr>\n",
       "  </tbody>\n",
       "</table>\n",
       "</div>"
      ],
      "text/plain": [
       "   Name  시도명      시군구명                                     centroid\n",
       "1   이종원  서울시       양천구  POINT (943049.1483472434 1947471.644039042)\n",
       "2   이정훈  서울시       강서구   POINT (940191.387102065 1951535.447214201)\n",
       "3   안성준  경기도       양주시  POINT (977391.3276712752 1962588.959609232)\n",
       "4   박범수  서울시      동대문구  POINT (960695.9357565708 1953711.983295836)\n",
       "5   최규진  서울시      서대문구  POINT (950470.0186996566 1953303.946911824)\n",
       "6   김지선  서울시        중구  POINT (955484.1952980496 1951318.203971829)\n",
       "7   김준서  인천시       부평구  POINT (931159.0238156538 1944440.436989765)\n",
       "8   박광해  서울시       관악구  POINT (950951.7866165609 1941051.326338609)\n",
       "9   이채욱  서울시      영등포구  POINT (947880.1097111189 1947164.667821349)\n",
       "10  양건필  서울시       강남구   POINT (961370.4031234696 1944243.66399422)\n",
       "11  김경린  경기도   고양시 덕양구  POINT (945191.2951447612 1961994.076161079)\n",
       "12  백정희  서울시       용산구   POINT (954048.023713753 1948135.318485856)\n",
       "13  이은용  경기도       군포시  POINT (948727.2133086865 1927319.223434611)\n",
       "14  도상혁  서울시       동작구  POINT (951529.6281257888 1944542.918610469)\n",
       "15  조유연  경기도       하남시  POINT (974016.2308346117 1947098.003847352)\n",
       "16  김남주  서울시      서대문구  POINT (950470.0186996566 1953303.946911824)\n",
       "17  홍진규  경기도  고양시 일산서구    POINT (931925.20898573 1964799.407044221)\n",
       "18  송정은  인천시        서구  POINT (925487.8293929026 1951275.585318534)\n",
       "19  김찬준  서울시       강서구   POINT (940191.387102065 1951535.447214201)"
      ]
     },
     "execution_count": 188,
     "metadata": {},
     "output_type": "execute_result"
    }
   ],
   "source": [
    "df"
   ]
  },
  {
   "cell_type": "code",
   "execution_count": 184,
   "metadata": {},
   "outputs": [],
   "source": [
    "df.to_csv(\"당신이 사는곳을.csv\")"
   ]
  },
  {
   "cell_type": "code",
   "execution_count": 190,
   "metadata": {},
   "outputs": [],
   "source": [
    "import plotly.express as px\n"
   ]
  },
  {
   "cell_type": "code",
   "execution_count": 193,
   "metadata": {},
   "outputs": [],
   "source": [
    "from shapely.wkt import loads"
   ]
  },
  {
   "cell_type": "code",
   "execution_count": 196,
   "metadata": {},
   "outputs": [],
   "source": [
    "df.centroid = df.centroid.apply(lambda x: loads(str(x)))"
   ]
  },
  {
   "cell_type": "code",
   "execution_count": 203,
   "metadata": {},
   "outputs": [],
   "source": [
    "gdf = gpd.GeoDataFrame(df,geometry = centroid,crs = 5179)"
   ]
  },
  {
   "cell_type": "code",
   "execution_count": 211,
   "metadata": {},
   "outputs": [],
   "source": [
    "ctdos = gdf[['시도명','시군구명']].drop_duplicates().시도명\n",
    "ctys = gdf[['시도명','시군구명']].drop_duplicates().시군구명"
   ]
  },
  {
   "cell_type": "code",
   "execution_count": null,
   "metadata": {},
   "outputs": [],
   "source": []
  },
  {
   "cell_type": "code",
   "execution_count": 219,
   "metadata": {},
   "outputs": [],
   "source": [
    "for ctdo,cty in zip(ctdos,ctys):\n",
    "    n = len(gdf[(gdf.시도명 ==ctdo)&(gdf.시군구명 == cty)])\n",
    "    gdf[(gdf.시도명 ==ctdo)&(gdf.시군구명 == cty)].구분 = n"
   ]
  },
  {
   "cell_type": "code",
   "execution_count": 229,
   "metadata": {},
   "outputs": [],
   "source": [
    "gdf['row_num'] = gdf.groupby(['시도명','시군구명']).cumcount() + 1"
   ]
  },
  {
   "cell_type": "code",
   "execution_count": 231,
   "metadata": {},
   "outputs": [
    {
     "data": {
      "text/plain": [
       "1     943099.148347\n",
       "2     940241.387102\n",
       "3     977441.327671\n",
       "4     960745.935757\n",
       "5     950520.018700\n",
       "6     955534.195298\n",
       "7     931209.023816\n",
       "8     951001.786617\n",
       "9     947930.109711\n",
       "10    961420.403123\n",
       "11    945241.295145\n",
       "12    954098.023714\n",
       "13    948777.213309\n",
       "14    951579.628126\n",
       "15    974066.230835\n",
       "16    950520.018700\n",
       "17    931975.208986\n",
       "18    925537.829393\n",
       "19    940241.387102\n",
       "dtype: float64"
      ]
     },
     "execution_count": 231,
     "metadata": {},
     "output_type": "execute_result"
    }
   ],
   "source": [
    "gdf.geometry.x + 50"
   ]
  },
  {
   "cell_type": "code",
   "execution_count": 235,
   "metadata": {},
   "outputs": [],
   "source": [
    "gdf['x'] = gdf.geometry.x\n",
    "gdf['y'] = gdf.geometry.y"
   ]
  },
  {
   "cell_type": "code",
   "execution_count": 241,
   "metadata": {},
   "outputs": [],
   "source": [
    "gdf.loc[gdf.row_num == 2,'x'] = gdf.loc[gdf.row_num == 2,'x'] + 50"
   ]
  },
  {
   "cell_type": "code",
   "execution_count": 243,
   "metadata": {},
   "outputs": [],
   "source": []
  },
  {
   "cell_type": "code",
   "execution_count": 246,
   "metadata": {},
   "outputs": [],
   "source": [
    "gdf2 = gpd.GeoDataFrame(gdf,geometry = [Point(x,y) for x,y in zip(gdf.x,gdf.y)],crs = 5179)"
   ]
  },
  {
   "cell_type": "code",
   "execution_count": 247,
   "metadata": {},
   "outputs": [],
   "source": [
    "gdf2 = gdf2.to_crs(4326)"
   ]
  },
  {
   "cell_type": "code",
   "execution_count": 249,
   "metadata": {},
   "outputs": [],
   "source": [
    "gdf2['lon'] = gdf2.geometry.x\n",
    "gdf2['lat'] = gdf2.geometry.y"
   ]
  },
  {
   "cell_type": "code",
   "execution_count": 250,
   "metadata": {
    "collapsed": true,
    "jupyter": {
     "outputs_hidden": true
    }
   },
   "outputs": [
    {
     "data": {
      "text/html": [
       "<div>\n",
       "<style scoped>\n",
       "    .dataframe tbody tr th:only-of-type {\n",
       "        vertical-align: middle;\n",
       "    }\n",
       "\n",
       "    .dataframe tbody tr th {\n",
       "        vertical-align: top;\n",
       "    }\n",
       "\n",
       "    .dataframe thead th {\n",
       "        text-align: right;\n",
       "    }\n",
       "</style>\n",
       "<table border=\"1\" class=\"dataframe\">\n",
       "  <thead>\n",
       "    <tr style=\"text-align: right;\">\n",
       "      <th></th>\n",
       "      <th>Name</th>\n",
       "      <th>시도명</th>\n",
       "      <th>시군구명</th>\n",
       "      <th>centroid</th>\n",
       "      <th>geometry</th>\n",
       "      <th>row_num</th>\n",
       "      <th>x</th>\n",
       "      <th>y</th>\n",
       "      <th>lon</th>\n",
       "      <th>lat</th>\n",
       "    </tr>\n",
       "  </thead>\n",
       "  <tbody>\n",
       "    <tr>\n",
       "      <th>1</th>\n",
       "      <td>이종원</td>\n",
       "      <td>서울시</td>\n",
       "      <td>양천구</td>\n",
       "      <td>POINT (943049.1483472434 1947471.644039042)</td>\n",
       "      <td>POINT (126.85548 37.52479)</td>\n",
       "      <td>1</td>\n",
       "      <td>943049.148347</td>\n",
       "      <td>1.947472e+06</td>\n",
       "      <td>126.855478</td>\n",
       "      <td>37.524789</td>\n",
       "    </tr>\n",
       "    <tr>\n",
       "      <th>2</th>\n",
       "      <td>이정훈</td>\n",
       "      <td>서울시</td>\n",
       "      <td>강서구</td>\n",
       "      <td>POINT (940191.387102065 1951535.447214201)</td>\n",
       "      <td>POINT (126.82281 37.56124)</td>\n",
       "      <td>1</td>\n",
       "      <td>940191.387102</td>\n",
       "      <td>1.951535e+06</td>\n",
       "      <td>126.822807</td>\n",
       "      <td>37.561235</td>\n",
       "    </tr>\n",
       "    <tr>\n",
       "      <th>3</th>\n",
       "      <td>안성준</td>\n",
       "      <td>경기도</td>\n",
       "      <td>양주시</td>\n",
       "      <td>POINT (977391.3276712752 1962588.959609232)</td>\n",
       "      <td>POINT (127.24366 37.66253)</td>\n",
       "      <td>1</td>\n",
       "      <td>977391.327671</td>\n",
       "      <td>1.962589e+06</td>\n",
       "      <td>127.243661</td>\n",
       "      <td>37.662530</td>\n",
       "    </tr>\n",
       "    <tr>\n",
       "      <th>4</th>\n",
       "      <td>박범수</td>\n",
       "      <td>서울시</td>\n",
       "      <td>동대문구</td>\n",
       "      <td>POINT (960695.9357565708 1953711.983295836)</td>\n",
       "      <td>POINT (127.05485 37.58196)</td>\n",
       "      <td>1</td>\n",
       "      <td>960695.935757</td>\n",
       "      <td>1.953712e+06</td>\n",
       "      <td>127.054848</td>\n",
       "      <td>37.581957</td>\n",
       "    </tr>\n",
       "    <tr>\n",
       "      <th>5</th>\n",
       "      <td>최규진</td>\n",
       "      <td>서울시</td>\n",
       "      <td>서대문구</td>\n",
       "      <td>POINT (950470.0186996566 1953303.946911824)</td>\n",
       "      <td>POINT (126.93906 37.57779)</td>\n",
       "      <td>1</td>\n",
       "      <td>950470.018700</td>\n",
       "      <td>1.953304e+06</td>\n",
       "      <td>126.939063</td>\n",
       "      <td>37.577785</td>\n",
       "    </tr>\n",
       "    <tr>\n",
       "      <th>6</th>\n",
       "      <td>김지선</td>\n",
       "      <td>서울시</td>\n",
       "      <td>중구</td>\n",
       "      <td>POINT (955484.1952980496 1951318.203971829)</td>\n",
       "      <td>POINT (126.99597 37.56014)</td>\n",
       "      <td>1</td>\n",
       "      <td>955484.195298</td>\n",
       "      <td>1.951318e+06</td>\n",
       "      <td>126.995968</td>\n",
       "      <td>37.560144</td>\n",
       "    </tr>\n",
       "    <tr>\n",
       "      <th>7</th>\n",
       "      <td>김준서</td>\n",
       "      <td>인천시</td>\n",
       "      <td>부평구</td>\n",
       "      <td>POINT (931159.0238156538 1944440.436989765)</td>\n",
       "      <td>POINT (126.72121 37.49666)</td>\n",
       "      <td>1</td>\n",
       "      <td>931159.023816</td>\n",
       "      <td>1.944440e+06</td>\n",
       "      <td>126.721209</td>\n",
       "      <td>37.496659</td>\n",
       "    </tr>\n",
       "    <tr>\n",
       "      <th>8</th>\n",
       "      <td>박광해</td>\n",
       "      <td>서울시</td>\n",
       "      <td>관악구</td>\n",
       "      <td>POINT (950951.7866165609 1941051.326338609)</td>\n",
       "      <td>POINT (126.94534 37.46738)</td>\n",
       "      <td>1</td>\n",
       "      <td>950951.786617</td>\n",
       "      <td>1.941051e+06</td>\n",
       "      <td>126.945337</td>\n",
       "      <td>37.467376</td>\n",
       "    </tr>\n",
       "    <tr>\n",
       "      <th>9</th>\n",
       "      <td>이채욱</td>\n",
       "      <td>서울시</td>\n",
       "      <td>영등포구</td>\n",
       "      <td>POINT (947880.1097111189 1947164.667821349)</td>\n",
       "      <td>POINT (126.91017 37.52231)</td>\n",
       "      <td>1</td>\n",
       "      <td>947880.109711</td>\n",
       "      <td>1.947165e+06</td>\n",
       "      <td>126.910169</td>\n",
       "      <td>37.522308</td>\n",
       "    </tr>\n",
       "    <tr>\n",
       "      <th>10</th>\n",
       "      <td>양건필</td>\n",
       "      <td>서울시</td>\n",
       "      <td>강남구</td>\n",
       "      <td>POINT (961370.4031234696 1944243.66399422)</td>\n",
       "      <td>POINT (127.06299 37.49664)</td>\n",
       "      <td>1</td>\n",
       "      <td>961370.403123</td>\n",
       "      <td>1.944244e+06</td>\n",
       "      <td>127.062985</td>\n",
       "      <td>37.496644</td>\n",
       "    </tr>\n",
       "    <tr>\n",
       "      <th>11</th>\n",
       "      <td>김경린</td>\n",
       "      <td>경기도</td>\n",
       "      <td>고양시 덕양구</td>\n",
       "      <td>POINT (945191.2951447612 1961994.076161079)</td>\n",
       "      <td>POINT (126.87863 37.65581)</td>\n",
       "      <td>1</td>\n",
       "      <td>945191.295145</td>\n",
       "      <td>1.961994e+06</td>\n",
       "      <td>126.878632</td>\n",
       "      <td>37.655810</td>\n",
       "    </tr>\n",
       "    <tr>\n",
       "      <th>12</th>\n",
       "      <td>백정희</td>\n",
       "      <td>서울시</td>\n",
       "      <td>용산구</td>\n",
       "      <td>POINT (954048.023713753 1948135.318485856)</td>\n",
       "      <td>POINT (126.97991 37.53138)</td>\n",
       "      <td>1</td>\n",
       "      <td>954048.023714</td>\n",
       "      <td>1.948135e+06</td>\n",
       "      <td>126.979907</td>\n",
       "      <td>37.531385</td>\n",
       "    </tr>\n",
       "    <tr>\n",
       "      <th>13</th>\n",
       "      <td>이은용</td>\n",
       "      <td>경기도</td>\n",
       "      <td>군포시</td>\n",
       "      <td>POINT (948727.2133086865 1927319.223434611)</td>\n",
       "      <td>POINT (126.92113 37.34348)</td>\n",
       "      <td>1</td>\n",
       "      <td>948727.213309</td>\n",
       "      <td>1.927319e+06</td>\n",
       "      <td>126.921135</td>\n",
       "      <td>37.343483</td>\n",
       "    </tr>\n",
       "    <tr>\n",
       "      <th>14</th>\n",
       "      <td>도상혁</td>\n",
       "      <td>서울시</td>\n",
       "      <td>동작구</td>\n",
       "      <td>POINT (951529.6281257888 1944542.918610469)</td>\n",
       "      <td>POINT (126.95164 37.49888)</td>\n",
       "      <td>1</td>\n",
       "      <td>951529.628126</td>\n",
       "      <td>1.944543e+06</td>\n",
       "      <td>126.951641</td>\n",
       "      <td>37.498877</td>\n",
       "    </tr>\n",
       "    <tr>\n",
       "      <th>15</th>\n",
       "      <td>조유연</td>\n",
       "      <td>경기도</td>\n",
       "      <td>하남시</td>\n",
       "      <td>POINT (974016.2308346117 1947098.003847352)</td>\n",
       "      <td>POINT (127.20594 37.52281)</td>\n",
       "      <td>1</td>\n",
       "      <td>974016.230835</td>\n",
       "      <td>1.947098e+06</td>\n",
       "      <td>127.205944</td>\n",
       "      <td>37.522814</td>\n",
       "    </tr>\n",
       "    <tr>\n",
       "      <th>16</th>\n",
       "      <td>김남주</td>\n",
       "      <td>서울시</td>\n",
       "      <td>서대문구</td>\n",
       "      <td>POINT (950470.0186996566 1953303.946911824)</td>\n",
       "      <td>POINT (126.93963 37.57779)</td>\n",
       "      <td>2</td>\n",
       "      <td>950520.018700</td>\n",
       "      <td>1.953304e+06</td>\n",
       "      <td>126.939629</td>\n",
       "      <td>37.577788</td>\n",
       "    </tr>\n",
       "    <tr>\n",
       "      <th>17</th>\n",
       "      <td>홍진규</td>\n",
       "      <td>경기도</td>\n",
       "      <td>고양시 일산서구</td>\n",
       "      <td>POINT (931925.20898573 1964799.407044221)</td>\n",
       "      <td>POINT (126.72798 37.68021)</td>\n",
       "      <td>1</td>\n",
       "      <td>931925.208986</td>\n",
       "      <td>1.964799e+06</td>\n",
       "      <td>126.727984</td>\n",
       "      <td>37.680205</td>\n",
       "    </tr>\n",
       "    <tr>\n",
       "      <th>18</th>\n",
       "      <td>송정은</td>\n",
       "      <td>인천시</td>\n",
       "      <td>서구</td>\n",
       "      <td>POINT (925487.8293929026 1951275.585318534)</td>\n",
       "      <td>POINT (126.65636 37.55782)</td>\n",
       "      <td>1</td>\n",
       "      <td>925487.829393</td>\n",
       "      <td>1.951276e+06</td>\n",
       "      <td>126.656364</td>\n",
       "      <td>37.557821</td>\n",
       "    </tr>\n",
       "    <tr>\n",
       "      <th>19</th>\n",
       "      <td>김찬준</td>\n",
       "      <td>서울시</td>\n",
       "      <td>강서구</td>\n",
       "      <td>POINT (940191.387102065 1951535.447214201)</td>\n",
       "      <td>POINT (126.82337 37.56124)</td>\n",
       "      <td>2</td>\n",
       "      <td>940241.387102</td>\n",
       "      <td>1.951535e+06</td>\n",
       "      <td>126.823373</td>\n",
       "      <td>37.561239</td>\n",
       "    </tr>\n",
       "  </tbody>\n",
       "</table>\n",
       "</div>"
      ],
      "text/plain": [
       "   Name  시도명      시군구명                                     centroid  \\\n",
       "1   이종원  서울시       양천구  POINT (943049.1483472434 1947471.644039042)   \n",
       "2   이정훈  서울시       강서구   POINT (940191.387102065 1951535.447214201)   \n",
       "3   안성준  경기도       양주시  POINT (977391.3276712752 1962588.959609232)   \n",
       "4   박범수  서울시      동대문구  POINT (960695.9357565708 1953711.983295836)   \n",
       "5   최규진  서울시      서대문구  POINT (950470.0186996566 1953303.946911824)   \n",
       "6   김지선  서울시        중구  POINT (955484.1952980496 1951318.203971829)   \n",
       "7   김준서  인천시       부평구  POINT (931159.0238156538 1944440.436989765)   \n",
       "8   박광해  서울시       관악구  POINT (950951.7866165609 1941051.326338609)   \n",
       "9   이채욱  서울시      영등포구  POINT (947880.1097111189 1947164.667821349)   \n",
       "10  양건필  서울시       강남구   POINT (961370.4031234696 1944243.66399422)   \n",
       "11  김경린  경기도   고양시 덕양구  POINT (945191.2951447612 1961994.076161079)   \n",
       "12  백정희  서울시       용산구   POINT (954048.023713753 1948135.318485856)   \n",
       "13  이은용  경기도       군포시  POINT (948727.2133086865 1927319.223434611)   \n",
       "14  도상혁  서울시       동작구  POINT (951529.6281257888 1944542.918610469)   \n",
       "15  조유연  경기도       하남시  POINT (974016.2308346117 1947098.003847352)   \n",
       "16  김남주  서울시      서대문구  POINT (950470.0186996566 1953303.946911824)   \n",
       "17  홍진규  경기도  고양시 일산서구    POINT (931925.20898573 1964799.407044221)   \n",
       "18  송정은  인천시        서구  POINT (925487.8293929026 1951275.585318534)   \n",
       "19  김찬준  서울시       강서구   POINT (940191.387102065 1951535.447214201)   \n",
       "\n",
       "                      geometry  row_num              x             y  \\\n",
       "1   POINT (126.85548 37.52479)        1  943049.148347  1.947472e+06   \n",
       "2   POINT (126.82281 37.56124)        1  940191.387102  1.951535e+06   \n",
       "3   POINT (127.24366 37.66253)        1  977391.327671  1.962589e+06   \n",
       "4   POINT (127.05485 37.58196)        1  960695.935757  1.953712e+06   \n",
       "5   POINT (126.93906 37.57779)        1  950470.018700  1.953304e+06   \n",
       "6   POINT (126.99597 37.56014)        1  955484.195298  1.951318e+06   \n",
       "7   POINT (126.72121 37.49666)        1  931159.023816  1.944440e+06   \n",
       "8   POINT (126.94534 37.46738)        1  950951.786617  1.941051e+06   \n",
       "9   POINT (126.91017 37.52231)        1  947880.109711  1.947165e+06   \n",
       "10  POINT (127.06299 37.49664)        1  961370.403123  1.944244e+06   \n",
       "11  POINT (126.87863 37.65581)        1  945191.295145  1.961994e+06   \n",
       "12  POINT (126.97991 37.53138)        1  954048.023714  1.948135e+06   \n",
       "13  POINT (126.92113 37.34348)        1  948727.213309  1.927319e+06   \n",
       "14  POINT (126.95164 37.49888)        1  951529.628126  1.944543e+06   \n",
       "15  POINT (127.20594 37.52281)        1  974016.230835  1.947098e+06   \n",
       "16  POINT (126.93963 37.57779)        2  950520.018700  1.953304e+06   \n",
       "17  POINT (126.72798 37.68021)        1  931925.208986  1.964799e+06   \n",
       "18  POINT (126.65636 37.55782)        1  925487.829393  1.951276e+06   \n",
       "19  POINT (126.82337 37.56124)        2  940241.387102  1.951535e+06   \n",
       "\n",
       "           lon        lat  \n",
       "1   126.855478  37.524789  \n",
       "2   126.822807  37.561235  \n",
       "3   127.243661  37.662530  \n",
       "4   127.054848  37.581957  \n",
       "5   126.939063  37.577785  \n",
       "6   126.995968  37.560144  \n",
       "7   126.721209  37.496659  \n",
       "8   126.945337  37.467376  \n",
       "9   126.910169  37.522308  \n",
       "10  127.062985  37.496644  \n",
       "11  126.878632  37.655810  \n",
       "12  126.979907  37.531385  \n",
       "13  126.921135  37.343483  \n",
       "14  126.951641  37.498877  \n",
       "15  127.205944  37.522814  \n",
       "16  126.939629  37.577788  \n",
       "17  126.727984  37.680205  \n",
       "18  126.656364  37.557821  \n",
       "19  126.823373  37.561239  "
      ]
     },
     "execution_count": 250,
     "metadata": {},
     "output_type": "execute_result"
    }
   ],
   "source": [
    "gdf2"
   ]
  },
  {
   "cell_type": "code",
   "execution_count": 253,
   "metadata": {},
   "outputs": [],
   "source": [
    "fig = px.scatter_mapbox(gdf2,lat = 'lat',lon = 'lon',hover_name = 'Name',)"
   ]
  },
  {
   "cell_type": "code",
   "execution_count": 263,
   "metadata": {},
   "outputs": [
    {
     "data": {
      "application/vnd.plotly.v1+json": {
       "config": {
        "plotlyServerURL": "https://plot.ly"
       },
       "data": [
        {
         "hovertemplate": "<b>%{hovertext}</b><br><br>lat=%{lat}<br>lon=%{lon}<extra></extra>",
         "hovertext": [
          "이종원",
          "이정훈",
          "안성준",
          "박범수",
          "최규진",
          "김지선",
          "김준서",
          "박광해",
          "이채욱",
          "양건필",
          "김경린",
          "백정희",
          "이은용",
          "도상혁",
          "조유연",
          "김남주",
          "홍진규",
          "송정은",
          "김찬준"
         ],
         "lat": [
          37.524789410208285,
          37.561235428012274,
          37.6625298136195,
          37.581956547893036,
          37.577785309169954,
          37.56014356455128,
          37.496658743192896,
          37.46737569058798,
          37.5223082885753,
          37.496643894287786,
          37.655809868931236,
          37.53138496588151,
          37.34348269230107,
          37.498876876071876,
          37.52281417732339,
          37.57778799850843,
          37.68020511776547,
          37.5578211664087,
          37.56123867377527
         ],
         "legendgroup": "",
         "lon": [
          126.85547766023458,
          126.82280668970552,
          127.24366064478095,
          127.05484812780756,
          126.93906309571523,
          126.99596813970754,
          126.72120944765086,
          126.94533715305033,
          126.91016946737669,
          127.06298520424792,
          126.87863210137766,
          126.9799069882358,
          126.92113468846475,
          126.9516414543837,
          127.20594379921027,
          126.93962933084453,
          126.72798352786319,
          126.65636443959892,
          126.8233727871252
         ],
         "marker": {
          "color": "#636efa"
         },
         "mode": "markers",
         "name": "",
         "showlegend": false,
         "subplot": "mapbox",
         "type": "scattermapbox"
        }
       ],
       "layout": {
        "legend": {
         "tracegroupgap": 0
        },
        "mapbox": {
         "center": {
          "lat": 37.54636043300343,
          "lon": 126.9282176182832
         },
         "domain": {
          "x": [
           0,
           1
          ],
          "y": [
           0,
           1
          ]
         },
         "style": "white-bg",
         "zoom": 8
        },
        "margin": {
         "t": 60
        },
        "template": {
         "data": {
          "bar": [
           {
            "error_x": {
             "color": "#2a3f5f"
            },
            "error_y": {
             "color": "#2a3f5f"
            },
            "marker": {
             "line": {
              "color": "#E5ECF6",
              "width": 0.5
             }
            },
            "type": "bar"
           }
          ],
          "barpolar": [
           {
            "marker": {
             "line": {
              "color": "#E5ECF6",
              "width": 0.5
             }
            },
            "type": "barpolar"
           }
          ],
          "carpet": [
           {
            "aaxis": {
             "endlinecolor": "#2a3f5f",
             "gridcolor": "white",
             "linecolor": "white",
             "minorgridcolor": "white",
             "startlinecolor": "#2a3f5f"
            },
            "baxis": {
             "endlinecolor": "#2a3f5f",
             "gridcolor": "white",
             "linecolor": "white",
             "minorgridcolor": "white",
             "startlinecolor": "#2a3f5f"
            },
            "type": "carpet"
           }
          ],
          "choropleth": [
           {
            "colorbar": {
             "outlinewidth": 0,
             "ticks": ""
            },
            "type": "choropleth"
           }
          ],
          "contour": [
           {
            "colorbar": {
             "outlinewidth": 0,
             "ticks": ""
            },
            "colorscale": [
             [
              0,
              "#0d0887"
             ],
             [
              0.1111111111111111,
              "#46039f"
             ],
             [
              0.2222222222222222,
              "#7201a8"
             ],
             [
              0.3333333333333333,
              "#9c179e"
             ],
             [
              0.4444444444444444,
              "#bd3786"
             ],
             [
              0.5555555555555556,
              "#d8576b"
             ],
             [
              0.6666666666666666,
              "#ed7953"
             ],
             [
              0.7777777777777778,
              "#fb9f3a"
             ],
             [
              0.8888888888888888,
              "#fdca26"
             ],
             [
              1,
              "#f0f921"
             ]
            ],
            "type": "contour"
           }
          ],
          "contourcarpet": [
           {
            "colorbar": {
             "outlinewidth": 0,
             "ticks": ""
            },
            "type": "contourcarpet"
           }
          ],
          "heatmap": [
           {
            "colorbar": {
             "outlinewidth": 0,
             "ticks": ""
            },
            "colorscale": [
             [
              0,
              "#0d0887"
             ],
             [
              0.1111111111111111,
              "#46039f"
             ],
             [
              0.2222222222222222,
              "#7201a8"
             ],
             [
              0.3333333333333333,
              "#9c179e"
             ],
             [
              0.4444444444444444,
              "#bd3786"
             ],
             [
              0.5555555555555556,
              "#d8576b"
             ],
             [
              0.6666666666666666,
              "#ed7953"
             ],
             [
              0.7777777777777778,
              "#fb9f3a"
             ],
             [
              0.8888888888888888,
              "#fdca26"
             ],
             [
              1,
              "#f0f921"
             ]
            ],
            "type": "heatmap"
           }
          ],
          "heatmapgl": [
           {
            "colorbar": {
             "outlinewidth": 0,
             "ticks": ""
            },
            "colorscale": [
             [
              0,
              "#0d0887"
             ],
             [
              0.1111111111111111,
              "#46039f"
             ],
             [
              0.2222222222222222,
              "#7201a8"
             ],
             [
              0.3333333333333333,
              "#9c179e"
             ],
             [
              0.4444444444444444,
              "#bd3786"
             ],
             [
              0.5555555555555556,
              "#d8576b"
             ],
             [
              0.6666666666666666,
              "#ed7953"
             ],
             [
              0.7777777777777778,
              "#fb9f3a"
             ],
             [
              0.8888888888888888,
              "#fdca26"
             ],
             [
              1,
              "#f0f921"
             ]
            ],
            "type": "heatmapgl"
           }
          ],
          "histogram": [
           {
            "marker": {
             "colorbar": {
              "outlinewidth": 0,
              "ticks": ""
             }
            },
            "type": "histogram"
           }
          ],
          "histogram2d": [
           {
            "colorbar": {
             "outlinewidth": 0,
             "ticks": ""
            },
            "colorscale": [
             [
              0,
              "#0d0887"
             ],
             [
              0.1111111111111111,
              "#46039f"
             ],
             [
              0.2222222222222222,
              "#7201a8"
             ],
             [
              0.3333333333333333,
              "#9c179e"
             ],
             [
              0.4444444444444444,
              "#bd3786"
             ],
             [
              0.5555555555555556,
              "#d8576b"
             ],
             [
              0.6666666666666666,
              "#ed7953"
             ],
             [
              0.7777777777777778,
              "#fb9f3a"
             ],
             [
              0.8888888888888888,
              "#fdca26"
             ],
             [
              1,
              "#f0f921"
             ]
            ],
            "type": "histogram2d"
           }
          ],
          "histogram2dcontour": [
           {
            "colorbar": {
             "outlinewidth": 0,
             "ticks": ""
            },
            "colorscale": [
             [
              0,
              "#0d0887"
             ],
             [
              0.1111111111111111,
              "#46039f"
             ],
             [
              0.2222222222222222,
              "#7201a8"
             ],
             [
              0.3333333333333333,
              "#9c179e"
             ],
             [
              0.4444444444444444,
              "#bd3786"
             ],
             [
              0.5555555555555556,
              "#d8576b"
             ],
             [
              0.6666666666666666,
              "#ed7953"
             ],
             [
              0.7777777777777778,
              "#fb9f3a"
             ],
             [
              0.8888888888888888,
              "#fdca26"
             ],
             [
              1,
              "#f0f921"
             ]
            ],
            "type": "histogram2dcontour"
           }
          ],
          "mesh3d": [
           {
            "colorbar": {
             "outlinewidth": 0,
             "ticks": ""
            },
            "type": "mesh3d"
           }
          ],
          "parcoords": [
           {
            "line": {
             "colorbar": {
              "outlinewidth": 0,
              "ticks": ""
             }
            },
            "type": "parcoords"
           }
          ],
          "pie": [
           {
            "automargin": true,
            "type": "pie"
           }
          ],
          "scatter": [
           {
            "marker": {
             "colorbar": {
              "outlinewidth": 0,
              "ticks": ""
             }
            },
            "type": "scatter"
           }
          ],
          "scatter3d": [
           {
            "line": {
             "colorbar": {
              "outlinewidth": 0,
              "ticks": ""
             }
            },
            "marker": {
             "colorbar": {
              "outlinewidth": 0,
              "ticks": ""
             }
            },
            "type": "scatter3d"
           }
          ],
          "scattercarpet": [
           {
            "marker": {
             "colorbar": {
              "outlinewidth": 0,
              "ticks": ""
             }
            },
            "type": "scattercarpet"
           }
          ],
          "scattergeo": [
           {
            "marker": {
             "colorbar": {
              "outlinewidth": 0,
              "ticks": ""
             }
            },
            "type": "scattergeo"
           }
          ],
          "scattergl": [
           {
            "marker": {
             "colorbar": {
              "outlinewidth": 0,
              "ticks": ""
             }
            },
            "type": "scattergl"
           }
          ],
          "scattermapbox": [
           {
            "marker": {
             "colorbar": {
              "outlinewidth": 0,
              "ticks": ""
             }
            },
            "type": "scattermapbox"
           }
          ],
          "scatterpolar": [
           {
            "marker": {
             "colorbar": {
              "outlinewidth": 0,
              "ticks": ""
             }
            },
            "type": "scatterpolar"
           }
          ],
          "scatterpolargl": [
           {
            "marker": {
             "colorbar": {
              "outlinewidth": 0,
              "ticks": ""
             }
            },
            "type": "scatterpolargl"
           }
          ],
          "scatterternary": [
           {
            "marker": {
             "colorbar": {
              "outlinewidth": 0,
              "ticks": ""
             }
            },
            "type": "scatterternary"
           }
          ],
          "surface": [
           {
            "colorbar": {
             "outlinewidth": 0,
             "ticks": ""
            },
            "colorscale": [
             [
              0,
              "#0d0887"
             ],
             [
              0.1111111111111111,
              "#46039f"
             ],
             [
              0.2222222222222222,
              "#7201a8"
             ],
             [
              0.3333333333333333,
              "#9c179e"
             ],
             [
              0.4444444444444444,
              "#bd3786"
             ],
             [
              0.5555555555555556,
              "#d8576b"
             ],
             [
              0.6666666666666666,
              "#ed7953"
             ],
             [
              0.7777777777777778,
              "#fb9f3a"
             ],
             [
              0.8888888888888888,
              "#fdca26"
             ],
             [
              1,
              "#f0f921"
             ]
            ],
            "type": "surface"
           }
          ],
          "table": [
           {
            "cells": {
             "fill": {
              "color": "#EBF0F8"
             },
             "line": {
              "color": "white"
             }
            },
            "header": {
             "fill": {
              "color": "#C8D4E3"
             },
             "line": {
              "color": "white"
             }
            },
            "type": "table"
           }
          ]
         },
         "layout": {
          "annotationdefaults": {
           "arrowcolor": "#2a3f5f",
           "arrowhead": 0,
           "arrowwidth": 1
          },
          "coloraxis": {
           "colorbar": {
            "outlinewidth": 0,
            "ticks": ""
           }
          },
          "colorscale": {
           "diverging": [
            [
             0,
             "#8e0152"
            ],
            [
             0.1,
             "#c51b7d"
            ],
            [
             0.2,
             "#de77ae"
            ],
            [
             0.3,
             "#f1b6da"
            ],
            [
             0.4,
             "#fde0ef"
            ],
            [
             0.5,
             "#f7f7f7"
            ],
            [
             0.6,
             "#e6f5d0"
            ],
            [
             0.7,
             "#b8e186"
            ],
            [
             0.8,
             "#7fbc41"
            ],
            [
             0.9,
             "#4d9221"
            ],
            [
             1,
             "#276419"
            ]
           ],
           "sequential": [
            [
             0,
             "#0d0887"
            ],
            [
             0.1111111111111111,
             "#46039f"
            ],
            [
             0.2222222222222222,
             "#7201a8"
            ],
            [
             0.3333333333333333,
             "#9c179e"
            ],
            [
             0.4444444444444444,
             "#bd3786"
            ],
            [
             0.5555555555555556,
             "#d8576b"
            ],
            [
             0.6666666666666666,
             "#ed7953"
            ],
            [
             0.7777777777777778,
             "#fb9f3a"
            ],
            [
             0.8888888888888888,
             "#fdca26"
            ],
            [
             1,
             "#f0f921"
            ]
           ],
           "sequentialminus": [
            [
             0,
             "#0d0887"
            ],
            [
             0.1111111111111111,
             "#46039f"
            ],
            [
             0.2222222222222222,
             "#7201a8"
            ],
            [
             0.3333333333333333,
             "#9c179e"
            ],
            [
             0.4444444444444444,
             "#bd3786"
            ],
            [
             0.5555555555555556,
             "#d8576b"
            ],
            [
             0.6666666666666666,
             "#ed7953"
            ],
            [
             0.7777777777777778,
             "#fb9f3a"
            ],
            [
             0.8888888888888888,
             "#fdca26"
            ],
            [
             1,
             "#f0f921"
            ]
           ]
          },
          "colorway": [
           "#636efa",
           "#EF553B",
           "#00cc96",
           "#ab63fa",
           "#FFA15A",
           "#19d3f3",
           "#FF6692",
           "#B6E880",
           "#FF97FF",
           "#FECB52"
          ],
          "font": {
           "color": "#2a3f5f"
          },
          "geo": {
           "bgcolor": "white",
           "lakecolor": "white",
           "landcolor": "#E5ECF6",
           "showlakes": true,
           "showland": true,
           "subunitcolor": "white"
          },
          "hoverlabel": {
           "align": "left"
          },
          "hovermode": "closest",
          "mapbox": {
           "style": "light"
          },
          "paper_bgcolor": "white",
          "plot_bgcolor": "#E5ECF6",
          "polar": {
           "angularaxis": {
            "gridcolor": "white",
            "linecolor": "white",
            "ticks": ""
           },
           "bgcolor": "#E5ECF6",
           "radialaxis": {
            "gridcolor": "white",
            "linecolor": "white",
            "ticks": ""
           }
          },
          "scene": {
           "xaxis": {
            "backgroundcolor": "#E5ECF6",
            "gridcolor": "white",
            "gridwidth": 2,
            "linecolor": "white",
            "showbackground": true,
            "ticks": "",
            "zerolinecolor": "white"
           },
           "yaxis": {
            "backgroundcolor": "#E5ECF6",
            "gridcolor": "white",
            "gridwidth": 2,
            "linecolor": "white",
            "showbackground": true,
            "ticks": "",
            "zerolinecolor": "white"
           },
           "zaxis": {
            "backgroundcolor": "#E5ECF6",
            "gridcolor": "white",
            "gridwidth": 2,
            "linecolor": "white",
            "showbackground": true,
            "ticks": "",
            "zerolinecolor": "white"
           }
          },
          "shapedefaults": {
           "line": {
            "color": "#2a3f5f"
           }
          },
          "ternary": {
           "aaxis": {
            "gridcolor": "white",
            "linecolor": "white",
            "ticks": ""
           },
           "baxis": {
            "gridcolor": "white",
            "linecolor": "white",
            "ticks": ""
           },
           "bgcolor": "#E5ECF6",
           "caxis": {
            "gridcolor": "white",
            "linecolor": "white",
            "ticks": ""
           }
          },
          "title": {
           "x": 0.05
          },
          "xaxis": {
           "automargin": true,
           "gridcolor": "white",
           "linecolor": "white",
           "ticks": "",
           "title": {
            "standoff": 15
           },
           "zerolinecolor": "white",
           "zerolinewidth": 2
          },
          "yaxis": {
           "automargin": true,
           "gridcolor": "white",
           "linecolor": "white",
           "ticks": "",
           "title": {
            "standoff": 15
           },
           "zerolinecolor": "white",
           "zerolinewidth": 2
          }
         }
        }
       }
      },
      "text/html": [
       "<div>                            <div id=\"d97f6ec3-f3be-4dcd-8029-e3bb2c82400a\" class=\"plotly-graph-div\" style=\"height:525px; width:100%;\"></div>            <script type=\"text/javascript\">                require([\"plotly\"], function(Plotly) {                    window.PLOTLYENV=window.PLOTLYENV || {};                                    if (document.getElementById(\"d97f6ec3-f3be-4dcd-8029-e3bb2c82400a\")) {                    Plotly.newPlot(                        \"d97f6ec3-f3be-4dcd-8029-e3bb2c82400a\",                        [{\"hovertemplate\": \"<b>%{hovertext}</b><br><br>lat=%{lat}<br>lon=%{lon}<extra></extra>\", \"hovertext\": [\"\\uc774\\uc885\\uc6d0\", \"\\uc774\\uc815\\ud6c8\", \"\\uc548\\uc131\\uc900\", \"\\ubc15\\ubc94\\uc218\", \"\\ucd5c\\uaddc\\uc9c4\", \"\\uae40\\uc9c0\\uc120\", \"\\uae40\\uc900\\uc11c\", \"\\ubc15\\uad11\\ud574\", \"\\uc774\\ucc44\\uc6b1\", \"\\uc591\\uac74\\ud544\", \"\\uae40\\uacbd\\ub9b0\", \"\\ubc31\\uc815\\ud76c\", \"\\uc774\\uc740\\uc6a9\", \"\\ub3c4\\uc0c1\\ud601\", \"\\uc870\\uc720\\uc5f0\", \"\\uae40\\ub0a8\\uc8fc\", \"\\ud64d\\uc9c4\\uaddc\", \"\\uc1a1\\uc815\\uc740\", \"\\uae40\\ucc2c\\uc900\"], \"lat\": [37.524789410208285, 37.561235428012274, 37.6625298136195, 37.581956547893036, 37.577785309169954, 37.56014356455128, 37.496658743192896, 37.46737569058798, 37.5223082885753, 37.496643894287786, 37.655809868931236, 37.53138496588151, 37.34348269230107, 37.498876876071876, 37.52281417732339, 37.57778799850843, 37.68020511776547, 37.5578211664087, 37.56123867377527], \"legendgroup\": \"\", \"lon\": [126.85547766023458, 126.82280668970552, 127.24366064478095, 127.05484812780756, 126.93906309571523, 126.99596813970754, 126.72120944765086, 126.94533715305033, 126.91016946737669, 127.06298520424792, 126.87863210137766, 126.9799069882358, 126.92113468846475, 126.9516414543837, 127.20594379921027, 126.93962933084453, 126.72798352786319, 126.65636443959892, 126.8233727871252], \"marker\": {\"color\": \"#636efa\"}, \"mode\": \"markers\", \"name\": \"\", \"showlegend\": false, \"subplot\": \"mapbox\", \"type\": \"scattermapbox\"}],                        {\"legend\": {\"tracegroupgap\": 0}, \"mapbox\": {\"center\": {\"lat\": 37.54636043300343, \"lon\": 126.9282176182832}, \"domain\": {\"x\": [0.0, 1.0], \"y\": [0.0, 1.0]}, \"style\": \"white-bg\", \"zoom\": 8}, \"margin\": {\"t\": 60}, \"template\": {\"data\": {\"bar\": [{\"error_x\": {\"color\": \"#2a3f5f\"}, \"error_y\": {\"color\": \"#2a3f5f\"}, \"marker\": {\"line\": {\"color\": \"#E5ECF6\", \"width\": 0.5}}, \"type\": \"bar\"}], \"barpolar\": [{\"marker\": {\"line\": {\"color\": \"#E5ECF6\", \"width\": 0.5}}, \"type\": \"barpolar\"}], \"carpet\": [{\"aaxis\": {\"endlinecolor\": \"#2a3f5f\", \"gridcolor\": \"white\", \"linecolor\": \"white\", \"minorgridcolor\": \"white\", \"startlinecolor\": \"#2a3f5f\"}, \"baxis\": {\"endlinecolor\": \"#2a3f5f\", \"gridcolor\": \"white\", \"linecolor\": \"white\", \"minorgridcolor\": \"white\", \"startlinecolor\": \"#2a3f5f\"}, \"type\": \"carpet\"}], \"choropleth\": [{\"colorbar\": {\"outlinewidth\": 0, \"ticks\": \"\"}, \"type\": \"choropleth\"}], \"contour\": [{\"colorbar\": {\"outlinewidth\": 0, \"ticks\": \"\"}, \"colorscale\": [[0.0, \"#0d0887\"], [0.1111111111111111, \"#46039f\"], [0.2222222222222222, \"#7201a8\"], [0.3333333333333333, \"#9c179e\"], [0.4444444444444444, \"#bd3786\"], [0.5555555555555556, \"#d8576b\"], [0.6666666666666666, \"#ed7953\"], [0.7777777777777778, \"#fb9f3a\"], [0.8888888888888888, \"#fdca26\"], [1.0, \"#f0f921\"]], \"type\": \"contour\"}], \"contourcarpet\": [{\"colorbar\": {\"outlinewidth\": 0, \"ticks\": \"\"}, \"type\": \"contourcarpet\"}], \"heatmap\": [{\"colorbar\": {\"outlinewidth\": 0, \"ticks\": \"\"}, \"colorscale\": [[0.0, \"#0d0887\"], [0.1111111111111111, \"#46039f\"], [0.2222222222222222, \"#7201a8\"], [0.3333333333333333, \"#9c179e\"], [0.4444444444444444, \"#bd3786\"], [0.5555555555555556, \"#d8576b\"], [0.6666666666666666, \"#ed7953\"], [0.7777777777777778, \"#fb9f3a\"], [0.8888888888888888, \"#fdca26\"], [1.0, \"#f0f921\"]], \"type\": \"heatmap\"}], \"heatmapgl\": [{\"colorbar\": {\"outlinewidth\": 0, \"ticks\": \"\"}, \"colorscale\": [[0.0, \"#0d0887\"], [0.1111111111111111, \"#46039f\"], [0.2222222222222222, \"#7201a8\"], [0.3333333333333333, \"#9c179e\"], [0.4444444444444444, \"#bd3786\"], [0.5555555555555556, \"#d8576b\"], [0.6666666666666666, \"#ed7953\"], [0.7777777777777778, \"#fb9f3a\"], [0.8888888888888888, \"#fdca26\"], [1.0, \"#f0f921\"]], \"type\": \"heatmapgl\"}], \"histogram\": [{\"marker\": {\"colorbar\": {\"outlinewidth\": 0, \"ticks\": \"\"}}, \"type\": \"histogram\"}], \"histogram2d\": [{\"colorbar\": {\"outlinewidth\": 0, \"ticks\": \"\"}, \"colorscale\": [[0.0, \"#0d0887\"], [0.1111111111111111, \"#46039f\"], [0.2222222222222222, \"#7201a8\"], [0.3333333333333333, \"#9c179e\"], [0.4444444444444444, \"#bd3786\"], [0.5555555555555556, \"#d8576b\"], [0.6666666666666666, \"#ed7953\"], [0.7777777777777778, \"#fb9f3a\"], [0.8888888888888888, \"#fdca26\"], [1.0, \"#f0f921\"]], \"type\": \"histogram2d\"}], \"histogram2dcontour\": [{\"colorbar\": {\"outlinewidth\": 0, \"ticks\": \"\"}, \"colorscale\": [[0.0, \"#0d0887\"], [0.1111111111111111, \"#46039f\"], [0.2222222222222222, \"#7201a8\"], [0.3333333333333333, \"#9c179e\"], [0.4444444444444444, \"#bd3786\"], [0.5555555555555556, \"#d8576b\"], [0.6666666666666666, \"#ed7953\"], [0.7777777777777778, \"#fb9f3a\"], [0.8888888888888888, \"#fdca26\"], [1.0, \"#f0f921\"]], \"type\": \"histogram2dcontour\"}], \"mesh3d\": [{\"colorbar\": {\"outlinewidth\": 0, \"ticks\": \"\"}, \"type\": \"mesh3d\"}], \"parcoords\": [{\"line\": {\"colorbar\": {\"outlinewidth\": 0, \"ticks\": \"\"}}, \"type\": \"parcoords\"}], \"pie\": [{\"automargin\": true, \"type\": \"pie\"}], \"scatter\": [{\"marker\": {\"colorbar\": {\"outlinewidth\": 0, \"ticks\": \"\"}}, \"type\": \"scatter\"}], \"scatter3d\": [{\"line\": {\"colorbar\": {\"outlinewidth\": 0, \"ticks\": \"\"}}, \"marker\": {\"colorbar\": {\"outlinewidth\": 0, \"ticks\": \"\"}}, \"type\": \"scatter3d\"}], \"scattercarpet\": [{\"marker\": {\"colorbar\": {\"outlinewidth\": 0, \"ticks\": \"\"}}, \"type\": \"scattercarpet\"}], \"scattergeo\": [{\"marker\": {\"colorbar\": {\"outlinewidth\": 0, \"ticks\": \"\"}}, \"type\": \"scattergeo\"}], \"scattergl\": [{\"marker\": {\"colorbar\": {\"outlinewidth\": 0, \"ticks\": \"\"}}, \"type\": \"scattergl\"}], \"scattermapbox\": [{\"marker\": {\"colorbar\": {\"outlinewidth\": 0, \"ticks\": \"\"}}, \"type\": \"scattermapbox\"}], \"scatterpolar\": [{\"marker\": {\"colorbar\": {\"outlinewidth\": 0, \"ticks\": \"\"}}, \"type\": \"scatterpolar\"}], \"scatterpolargl\": [{\"marker\": {\"colorbar\": {\"outlinewidth\": 0, \"ticks\": \"\"}}, \"type\": \"scatterpolargl\"}], \"scatterternary\": [{\"marker\": {\"colorbar\": {\"outlinewidth\": 0, \"ticks\": \"\"}}, \"type\": \"scatterternary\"}], \"surface\": [{\"colorbar\": {\"outlinewidth\": 0, \"ticks\": \"\"}, \"colorscale\": [[0.0, \"#0d0887\"], [0.1111111111111111, \"#46039f\"], [0.2222222222222222, \"#7201a8\"], [0.3333333333333333, \"#9c179e\"], [0.4444444444444444, \"#bd3786\"], [0.5555555555555556, \"#d8576b\"], [0.6666666666666666, \"#ed7953\"], [0.7777777777777778, \"#fb9f3a\"], [0.8888888888888888, \"#fdca26\"], [1.0, \"#f0f921\"]], \"type\": \"surface\"}], \"table\": [{\"cells\": {\"fill\": {\"color\": \"#EBF0F8\"}, \"line\": {\"color\": \"white\"}}, \"header\": {\"fill\": {\"color\": \"#C8D4E3\"}, \"line\": {\"color\": \"white\"}}, \"type\": \"table\"}]}, \"layout\": {\"annotationdefaults\": {\"arrowcolor\": \"#2a3f5f\", \"arrowhead\": 0, \"arrowwidth\": 1}, \"coloraxis\": {\"colorbar\": {\"outlinewidth\": 0, \"ticks\": \"\"}}, \"colorscale\": {\"diverging\": [[0, \"#8e0152\"], [0.1, \"#c51b7d\"], [0.2, \"#de77ae\"], [0.3, \"#f1b6da\"], [0.4, \"#fde0ef\"], [0.5, \"#f7f7f7\"], [0.6, \"#e6f5d0\"], [0.7, \"#b8e186\"], [0.8, \"#7fbc41\"], [0.9, \"#4d9221\"], [1, \"#276419\"]], \"sequential\": [[0.0, \"#0d0887\"], [0.1111111111111111, \"#46039f\"], [0.2222222222222222, \"#7201a8\"], [0.3333333333333333, \"#9c179e\"], [0.4444444444444444, \"#bd3786\"], [0.5555555555555556, \"#d8576b\"], [0.6666666666666666, \"#ed7953\"], [0.7777777777777778, \"#fb9f3a\"], [0.8888888888888888, \"#fdca26\"], [1.0, \"#f0f921\"]], \"sequentialminus\": [[0.0, \"#0d0887\"], [0.1111111111111111, \"#46039f\"], [0.2222222222222222, \"#7201a8\"], [0.3333333333333333, \"#9c179e\"], [0.4444444444444444, \"#bd3786\"], [0.5555555555555556, \"#d8576b\"], [0.6666666666666666, \"#ed7953\"], [0.7777777777777778, \"#fb9f3a\"], [0.8888888888888888, \"#fdca26\"], [1.0, \"#f0f921\"]]}, \"colorway\": [\"#636efa\", \"#EF553B\", \"#00cc96\", \"#ab63fa\", \"#FFA15A\", \"#19d3f3\", \"#FF6692\", \"#B6E880\", \"#FF97FF\", \"#FECB52\"], \"font\": {\"color\": \"#2a3f5f\"}, \"geo\": {\"bgcolor\": \"white\", \"lakecolor\": \"white\", \"landcolor\": \"#E5ECF6\", \"showlakes\": true, \"showland\": true, \"subunitcolor\": \"white\"}, \"hoverlabel\": {\"align\": \"left\"}, \"hovermode\": \"closest\", \"mapbox\": {\"style\": \"light\"}, \"paper_bgcolor\": \"white\", \"plot_bgcolor\": \"#E5ECF6\", \"polar\": {\"angularaxis\": {\"gridcolor\": \"white\", \"linecolor\": \"white\", \"ticks\": \"\"}, \"bgcolor\": \"#E5ECF6\", \"radialaxis\": {\"gridcolor\": \"white\", \"linecolor\": \"white\", \"ticks\": \"\"}}, \"scene\": {\"xaxis\": {\"backgroundcolor\": \"#E5ECF6\", \"gridcolor\": \"white\", \"gridwidth\": 2, \"linecolor\": \"white\", \"showbackground\": true, \"ticks\": \"\", \"zerolinecolor\": \"white\"}, \"yaxis\": {\"backgroundcolor\": \"#E5ECF6\", \"gridcolor\": \"white\", \"gridwidth\": 2, \"linecolor\": \"white\", \"showbackground\": true, \"ticks\": \"\", \"zerolinecolor\": \"white\"}, \"zaxis\": {\"backgroundcolor\": \"#E5ECF6\", \"gridcolor\": \"white\", \"gridwidth\": 2, \"linecolor\": \"white\", \"showbackground\": true, \"ticks\": \"\", \"zerolinecolor\": \"white\"}}, \"shapedefaults\": {\"line\": {\"color\": \"#2a3f5f\"}}, \"ternary\": {\"aaxis\": {\"gridcolor\": \"white\", \"linecolor\": \"white\", \"ticks\": \"\"}, \"baxis\": {\"gridcolor\": \"white\", \"linecolor\": \"white\", \"ticks\": \"\"}, \"bgcolor\": \"#E5ECF6\", \"caxis\": {\"gridcolor\": \"white\", \"linecolor\": \"white\", \"ticks\": \"\"}}, \"title\": {\"x\": 0.05}, \"xaxis\": {\"automargin\": true, \"gridcolor\": \"white\", \"linecolor\": \"white\", \"ticks\": \"\", \"title\": {\"standoff\": 15}, \"zerolinecolor\": \"white\", \"zerolinewidth\": 2}, \"yaxis\": {\"automargin\": true, \"gridcolor\": \"white\", \"linecolor\": \"white\", \"ticks\": \"\", \"title\": {\"standoff\": 15}, \"zerolinecolor\": \"white\", \"zerolinewidth\": 2}}}},                        {\"responsive\": true}                    ).then(function(){\n",
       "                            \n",
       "var gd = document.getElementById('d97f6ec3-f3be-4dcd-8029-e3bb2c82400a');\n",
       "var x = new MutationObserver(function (mutations, observer) {{\n",
       "        var display = window.getComputedStyle(gd).display;\n",
       "        if (!display || display === 'none') {{\n",
       "            console.log([gd, 'removed!']);\n",
       "            Plotly.purge(gd);\n",
       "            observer.disconnect();\n",
       "        }}\n",
       "}});\n",
       "\n",
       "// Listen for the removal of the full notebook cells\n",
       "var notebookContainer = gd.closest('#notebook-container');\n",
       "if (notebookContainer) {{\n",
       "    x.observe(notebookContainer, {childList: true});\n",
       "}}\n",
       "\n",
       "// Listen for the clearing of the current output cell\n",
       "var outputEl = gd.closest('.output');\n",
       "if (outputEl) {{\n",
       "    x.observe(outputEl, {childList: true});\n",
       "}}\n",
       "\n",
       "                        })                };                });            </script>        </div>"
      ]
     },
     "metadata": {},
     "output_type": "display_data"
    }
   ],
   "source": [
    "fig.update_layout(mapbox_style = 'white-bg')"
   ]
  },
  {
   "cell_type": "code",
   "execution_count": 264,
   "metadata": {},
   "outputs": [
    {
     "data": {
      "text/plain": [
       "'notion_update2.html'"
      ]
     },
     "execution_count": 264,
     "metadata": {},
     "output_type": "execute_result"
    }
   ],
   "source": [
    "plot(fig, filename='notion_update2.html')"
   ]
  }
 ],
 "metadata": {
  "kernelspec": {
   "display_name": "Python 3",
   "language": "python",
   "name": "python3"
  },
  "language_info": {
   "codemirror_mode": {
    "name": "ipython",
    "version": 3
   },
   "file_extension": ".py",
   "mimetype": "text/x-python",
   "name": "python",
   "nbconvert_exporter": "python",
   "pygments_lexer": "ipython3",
   "version": "3.6.9"
  }
 },
 "nbformat": 4,
 "nbformat_minor": 4
}
