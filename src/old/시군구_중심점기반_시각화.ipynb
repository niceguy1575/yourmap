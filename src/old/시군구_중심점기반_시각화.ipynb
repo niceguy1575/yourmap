{
 "cells": [
  {
   "cell_type": "code",
   "execution_count": 1,
   "metadata": {},
   "outputs": [],
   "source": [
    "import geopandas as gpd\n",
    "import pandas as pd\n",
    "import re\n",
    "import plotly.express as px\n",
    "\n",
    "from shapely.wkt import loads\n",
    "from glob import glob\n",
    "from plotly.offline import plot\n",
    "from shapely.geometry import Point\n"
   ]
  },
  {
   "cell_type": "code",
   "execution_count": 2,
   "metadata": {},
   "outputs": [],
   "source": [
    "# 행정동 정보 \n",
    "#files = glob(\"*.shp\")\n",
    "#shp = pd.concat([gpd.read_file(file,encoding = 'cp949') for file in files]).reset_index(drop = True)\n",
    "df = pd.read_csv(\"../data/shp/sample.csv\")\n",
    "df = df[df.columns[:3]].dropna()"
   ]
  },
  {
   "cell_type": "code",
   "execution_count": 4,
   "metadata": {},
   "outputs": [
    {
     "output_type": "error",
     "ename": "AttributeError",
     "evalue": "'DataFrame' object has no attribute '시군구명'",
     "traceback": [
      "\u001b[0;31m---------------------------------------------------------------------------\u001b[0m",
      "\u001b[0;31mAttributeError\u001b[0m                            Traceback (most recent call last)",
      "\u001b[0;32m<ipython-input-4-28be638fcc6e>\u001b[0m in \u001b[0;36m<module>\u001b[0;34m\u001b[0m\n\u001b[1;32m      1\u001b[0m \u001b[0mmegas\u001b[0m \u001b[0;34m=\u001b[0m \u001b[0mdf\u001b[0m\u001b[0;34m.\u001b[0m\u001b[0m시도명\u001b[0m\u001b[0;34m.\u001b[0m\u001b[0mapply\u001b[0m\u001b[0;34m(\u001b[0m\u001b[0;32mlambda\u001b[0m \u001b[0mx\u001b[0m\u001b[0;34m:\u001b[0m \u001b[0mx\u001b[0m\u001b[0;34m.\u001b[0m\u001b[0mreplace\u001b[0m\u001b[0;34m(\u001b[0m\u001b[0;34m\" \"\u001b[0m\u001b[0;34m,\u001b[0m\u001b[0;34m\"\"\u001b[0m\u001b[0;34m)\u001b[0m\u001b[0;34m)\u001b[0m\u001b[0;34m\u001b[0m\u001b[0;34m\u001b[0m\u001b[0m\n\u001b[0;32m----> 2\u001b[0;31m \u001b[0msggs\u001b[0m\u001b[0;34m=\u001b[0m \u001b[0mdf\u001b[0m\u001b[0;34m.\u001b[0m\u001b[0m시군구명\u001b[0m\u001b[0;34m.\u001b[0m\u001b[0mapply\u001b[0m\u001b[0;34m(\u001b[0m\u001b[0;32mlambda\u001b[0m \u001b[0mx\u001b[0m\u001b[0;34m:\u001b[0m \u001b[0mx\u001b[0m\u001b[0;34m.\u001b[0m\u001b[0mreplace\u001b[0m\u001b[0;34m(\u001b[0m\u001b[0;34m\" \"\u001b[0m\u001b[0;34m,\u001b[0m\u001b[0;34m''\u001b[0m\u001b[0;34m)\u001b[0m\u001b[0;34m)\u001b[0m\u001b[0;34m\u001b[0m\u001b[0;34m\u001b[0m\u001b[0m\n\u001b[0m",
      "\u001b[0;32m/usr/local/lib/python3.8/site-packages/pandas/core/generic.py\u001b[0m in \u001b[0;36m__getattr__\u001b[0;34m(self, name)\u001b[0m\n\u001b[1;32m   5460\u001b[0m             \u001b[0;32mif\u001b[0m \u001b[0mself\u001b[0m\u001b[0;34m.\u001b[0m\u001b[0m_info_axis\u001b[0m\u001b[0;34m.\u001b[0m\u001b[0m_can_hold_identifiers_and_holds_name\u001b[0m\u001b[0;34m(\u001b[0m\u001b[0mname\u001b[0m\u001b[0;34m)\u001b[0m\u001b[0;34m:\u001b[0m\u001b[0;34m\u001b[0m\u001b[0;34m\u001b[0m\u001b[0m\n\u001b[1;32m   5461\u001b[0m                 \u001b[0;32mreturn\u001b[0m \u001b[0mself\u001b[0m\u001b[0;34m[\u001b[0m\u001b[0mname\u001b[0m\u001b[0;34m]\u001b[0m\u001b[0;34m\u001b[0m\u001b[0;34m\u001b[0m\u001b[0m\n\u001b[0;32m-> 5462\u001b[0;31m             \u001b[0;32mreturn\u001b[0m \u001b[0mobject\u001b[0m\u001b[0;34m.\u001b[0m\u001b[0m__getattribute__\u001b[0m\u001b[0;34m(\u001b[0m\u001b[0mself\u001b[0m\u001b[0;34m,\u001b[0m \u001b[0mname\u001b[0m\u001b[0;34m)\u001b[0m\u001b[0;34m\u001b[0m\u001b[0;34m\u001b[0m\u001b[0m\n\u001b[0m\u001b[1;32m   5463\u001b[0m \u001b[0;34m\u001b[0m\u001b[0m\n\u001b[1;32m   5464\u001b[0m     \u001b[0;32mdef\u001b[0m \u001b[0m__setattr__\u001b[0m\u001b[0;34m(\u001b[0m\u001b[0mself\u001b[0m\u001b[0;34m,\u001b[0m \u001b[0mname\u001b[0m\u001b[0;34m:\u001b[0m \u001b[0mstr\u001b[0m\u001b[0;34m,\u001b[0m \u001b[0mvalue\u001b[0m\u001b[0;34m)\u001b[0m \u001b[0;34m->\u001b[0m \u001b[0;32mNone\u001b[0m\u001b[0;34m:\u001b[0m\u001b[0;34m\u001b[0m\u001b[0;34m\u001b[0m\u001b[0m\n",
      "\u001b[0;31mAttributeError\u001b[0m: 'DataFrame' object has no attribute '시군구명'"
     ]
    }
   ],
   "source": [
    "megas = df.시도명.apply(lambda x: x.replace(\" \",\"\"))\n",
    "sggs= df.시군구명.apply(lambda x: x.replace(\" \",''))"
   ]
  },
  {
   "cell_type": "markdown",
   "metadata": {},
   "source": [
    "# 중심점 계산 후 리스트로 저장 "
   ]
  },
  {
   "cell_type": "code",
   "execution_count": 180,
   "metadata": {},
   "outputs": [],
   "source": [
    "centroid = [shp[((shp.MEGA_NM.apply(lambda x: re.search(mega,x)).isna()==False)&(shp.SIG_KOR_NM.apply(lambda x: re.search(sgg,x)).isna()==False))].centroid.tolist()[0] for mega,sgg in zip(megas,sggs)]\n",
    "\n",
    "df['centroid'] = centroid"
   ]
  },
  {
   "cell_type": "code",
   "execution_count": 266,
   "metadata": {},
   "outputs": [
    {
     "data": {
      "text/html": [
       "<div>\n",
       "<style scoped>\n",
       "    .dataframe tbody tr th:only-of-type {\n",
       "        vertical-align: middle;\n",
       "    }\n",
       "\n",
       "    .dataframe tbody tr th {\n",
       "        vertical-align: top;\n",
       "    }\n",
       "\n",
       "    .dataframe thead th {\n",
       "        text-align: right;\n",
       "    }\n",
       "</style>\n",
       "<table border=\"1\" class=\"dataframe\">\n",
       "  <thead>\n",
       "    <tr style=\"text-align: right;\">\n",
       "      <th></th>\n",
       "      <th>Name</th>\n",
       "      <th>시도명</th>\n",
       "      <th>시군구명</th>\n",
       "      <th>centroid</th>\n",
       "      <th>geometry</th>\n",
       "      <th>row_num</th>\n",
       "      <th>x</th>\n",
       "      <th>y</th>\n",
       "    </tr>\n",
       "  </thead>\n",
       "  <tbody>\n",
       "    <tr>\n",
       "      <th>1</th>\n",
       "      <td>XXX</td>\n",
       "      <td>서울시</td>\n",
       "      <td>양천구</td>\n",
       "      <td>POINT (943049.1483472434 1947471.644039042)</td>\n",
       "      <td>POINT (943049.148 1947471.644)</td>\n",
       "      <td>1</td>\n",
       "      <td>943049.148347</td>\n",
       "      <td>1.947472e+06</td>\n",
       "    </tr>\n",
       "  </tbody>\n",
       "</table>\n",
       "</div>"
      ],
      "text/plain": [
       "  Name  시도명 시군구명                                     centroid  \\\n",
       "1  XXX  서울시  양천구  POINT (943049.1483472434 1947471.644039042)   \n",
       "\n",
       "                         geometry  row_num              x             y  \n",
       "1  POINT (943049.148 1947471.644)        1  943049.148347  1.947472e+06  "
      ]
     },
     "execution_count": 266,
     "metadata": {},
     "output_type": "execute_result"
    }
   ],
   "source": [
    "df.head(1)"
   ]
  },
  {
   "cell_type": "code",
   "execution_count": 184,
   "metadata": {},
   "outputs": [],
   "source": [
    "df.to_csv(\"당신이 사는곳을.csv\")"
   ]
  },
  {
   "cell_type": "code",
   "execution_count": null,
   "metadata": {},
   "outputs": [],
   "source": [
    "# GeoPandas 변환"
   ]
  },
  {
   "cell_type": "code",
   "execution_count": 196,
   "metadata": {},
   "outputs": [],
   "source": [
    "df.centroid = df.centroid.apply(lambda x: loads(str(x)))"
   ]
  },
  {
   "cell_type": "code",
   "execution_count": 203,
   "metadata": {},
   "outputs": [],
   "source": [
    "gdf = gpd.GeoDataFrame(df,geometry = centroid,crs = 5179)"
   ]
  },
  {
   "cell_type": "code",
   "execution_count": null,
   "metadata": {},
   "outputs": [],
   "source": [
    "# 겹치는 지역에 대한 처리 "
   ]
  },
  {
   "cell_type": "code",
   "execution_count": 229,
   "metadata": {},
   "outputs": [],
   "source": []
  },
  {
   "cell_type": "code",
   "execution_count": 1,
   "metadata": {},
   "outputs": [],
   "source": [
    "import geopandas as gpd\n",
    "import pandas as pd\n",
    "import numpy as np\n",
    "from plotly import graph_objects as go\n",
    "from plotly import express as px\n",
    "from shapely import wkt\n",
    "import json\n",
    "import chart_studio\n",
    "import chart_studio.plotly as py\n",
    "\n",
    "\n",
    "# data setup\n",
    "data = pd.read_csv(\"/Users/jongwon/git/yourmap/result/sgg_bind.txt\", sep = \"|\")\n",
    "data['wkt'] = data.geometry.apply(wkt.loads)\n",
    "\n",
    "gdf = gpd.GeoDataFrame(data, geometry = 'wkt')\n",
    "gdf['ptr_wkt'] = gdf.centroid\n",
    "\n",
    "gdf2 = gdf[['sgg_cd', 'sgg_nm','ptr_wkt']].copy()\n",
    "gdf2 = gpd.GeoDataFrame(gdf2, geometry = 'ptr_wkt')\n",
    "gdf2 = gdf2.set_crs(epsg = 5179)\n",
    "gdf2 = gdf2.to_crs(epsg = 4326)"
   ]
  },
  {
   "cell_type": "code",
   "execution_count": 2,
   "metadata": {},
   "outputs": [],
   "source": [
    "res = gdf2.copy()\n",
    "res['lon'] = res.geometry.x\n",
    "res['lat'] = res.geometry.y"
   ]
  },
  {
   "cell_type": "code",
   "execution_count": 3,
   "metadata": {},
   "outputs": [
    {
     "output_type": "execute_result",
     "data": {
      "text/plain": [
       "    sgg_cd   sgg_nm                     ptr_wkt         lon        lat\n",
       "0    41111  수원시 장안구  POINT (127.00345 37.31397)  127.003452  37.313966\n",
       "1    41113  수원시 권선구  POINT (126.97976 37.26052)  126.979758  37.260525\n",
       "2    41115  수원시 팔달구  POINT (127.01624 37.27746)  127.016239  37.277464\n",
       "3    41117  수원시 영통구  POINT (127.05673 37.27502)  127.056728  37.275019\n",
       "4    41131  성남시 수정구  POINT (127.10415 37.43517)  127.104145  37.435166\n",
       "..     ...      ...                         ...         ...        ...\n",
       "72   11620      관악구  POINT (126.94534 37.46738)  126.945337  37.467376\n",
       "73   11650      서초구  POINT (127.03122 37.47330)  127.031220  37.473295\n",
       "74   11680      강남구  POINT (127.06299 37.49664)  127.062985  37.496644\n",
       "75   11710      송파구  POINT (127.11530 37.50562)  127.115295  37.505619\n",
       "76   11740      강동구  POINT (127.14701 37.55045)  127.147012  37.550450\n",
       "\n",
       "[77 rows x 5 columns]"
      ],
      "text/html": "<div>\n<style scoped>\n    .dataframe tbody tr th:only-of-type {\n        vertical-align: middle;\n    }\n\n    .dataframe tbody tr th {\n        vertical-align: top;\n    }\n\n    .dataframe thead th {\n        text-align: right;\n    }\n</style>\n<table border=\"1\" class=\"dataframe\">\n  <thead>\n    <tr style=\"text-align: right;\">\n      <th></th>\n      <th>sgg_cd</th>\n      <th>sgg_nm</th>\n      <th>ptr_wkt</th>\n      <th>lon</th>\n      <th>lat</th>\n    </tr>\n  </thead>\n  <tbody>\n    <tr>\n      <th>0</th>\n      <td>41111</td>\n      <td>수원시 장안구</td>\n      <td>POINT (127.00345 37.31397)</td>\n      <td>127.003452</td>\n      <td>37.313966</td>\n    </tr>\n    <tr>\n      <th>1</th>\n      <td>41113</td>\n      <td>수원시 권선구</td>\n      <td>POINT (126.97976 37.26052)</td>\n      <td>126.979758</td>\n      <td>37.260525</td>\n    </tr>\n    <tr>\n      <th>2</th>\n      <td>41115</td>\n      <td>수원시 팔달구</td>\n      <td>POINT (127.01624 37.27746)</td>\n      <td>127.016239</td>\n      <td>37.277464</td>\n    </tr>\n    <tr>\n      <th>3</th>\n      <td>41117</td>\n      <td>수원시 영통구</td>\n      <td>POINT (127.05673 37.27502)</td>\n      <td>127.056728</td>\n      <td>37.275019</td>\n    </tr>\n    <tr>\n      <th>4</th>\n      <td>41131</td>\n      <td>성남시 수정구</td>\n      <td>POINT (127.10415 37.43517)</td>\n      <td>127.104145</td>\n      <td>37.435166</td>\n    </tr>\n    <tr>\n      <th>...</th>\n      <td>...</td>\n      <td>...</td>\n      <td>...</td>\n      <td>...</td>\n      <td>...</td>\n    </tr>\n    <tr>\n      <th>72</th>\n      <td>11620</td>\n      <td>관악구</td>\n      <td>POINT (126.94534 37.46738)</td>\n      <td>126.945337</td>\n      <td>37.467376</td>\n    </tr>\n    <tr>\n      <th>73</th>\n      <td>11650</td>\n      <td>서초구</td>\n      <td>POINT (127.03122 37.47330)</td>\n      <td>127.031220</td>\n      <td>37.473295</td>\n    </tr>\n    <tr>\n      <th>74</th>\n      <td>11680</td>\n      <td>강남구</td>\n      <td>POINT (127.06299 37.49664)</td>\n      <td>127.062985</td>\n      <td>37.496644</td>\n    </tr>\n    <tr>\n      <th>75</th>\n      <td>11710</td>\n      <td>송파구</td>\n      <td>POINT (127.11530 37.50562)</td>\n      <td>127.115295</td>\n      <td>37.505619</td>\n    </tr>\n    <tr>\n      <th>76</th>\n      <td>11740</td>\n      <td>강동구</td>\n      <td>POINT (127.14701 37.55045)</td>\n      <td>127.147012</td>\n      <td>37.550450</td>\n    </tr>\n  </tbody>\n</table>\n<p>77 rows × 5 columns</p>\n</div>"
     },
     "metadata": {},
     "execution_count": 3
    }
   ],
   "source": [
    "res"
   ]
  },
  {
   "cell_type": "code",
   "execution_count": 4,
   "metadata": {},
   "outputs": [],
   "source": [
    "fig = px.scatter_mapbox(res,lat = 'lat',lon = 'lon',hover_name = 'sgg_nm',mapbox_style = 'open-street-map')"
   ]
  },
  {
   "cell_type": "code",
   "execution_count": 5,
   "metadata": {},
   "outputs": [
    {
     "output_type": "display_data",
     "data": {
      "application/vnd.plotly.v1+json": {
       "config": {
        "plotlyServerURL": "https://plotly.com"
       },
       "data": [
        {
         "hovertemplate": "<b>%{hovertext}</b><br><br>lat=%{lat}<br>lon=%{lon}<extra></extra>",
         "hovertext": [
          "수원시 장안구",
          "수원시 권선구",
          "수원시 팔달구",
          "수원시 영통구",
          "성남시 수정구",
          "성남시 중원구",
          "성남시 분당구",
          "의정부시",
          "안양시만안구",
          "안양시동안구",
          "부천시",
          "광명시",
          "평택시",
          "동두천시",
          "안산시상록구",
          "안산시단원구",
          "고양시덕양구",
          "고양시일산동구",
          "고양시일산서구",
          "과천시",
          "구리시",
          "남양주시",
          "오산시",
          "시흥시",
          "군포시",
          "의왕시",
          "하남시",
          "용인시처인구",
          "용인시기흥구",
          "용인시수지구",
          "파주시",
          "이천시",
          "안성시",
          "김포시",
          "화성시",
          "광주시",
          "양주시",
          "포천시",
          "여주시",
          "연천군",
          "가평군",
          "양평군",
          "중구",
          "동구",
          "미추홀구",
          "연수구",
          "남동구",
          "부평구",
          "계양구",
          "서구",
          "강화군",
          "옹진군",
          "종로구",
          "중구",
          "용산구",
          "성동구",
          "광진구",
          "동대문구",
          "중랑구",
          "성북구",
          "강북구",
          "도봉구",
          "노원구",
          "은평구",
          "서대문구",
          "마포구",
          "양천구",
          "강서구",
          "구로구",
          "금천구",
          "영등포구",
          "동작구",
          "관악구",
          "서초구",
          "강남구",
          "송파구",
          "강동구"
         ],
         "lat": [
          37.31396569493724,
          37.260524760000735,
          37.277463626377234,
          37.27501901178796,
          37.43516624341917,
          37.43343323230392,
          37.37930156520035,
          37.73619210869816,
          37.40413344823063,
          37.40039183321457,
          37.5042583329253,
          37.44515907294813,
          37.01183071199069,
          37.91653760805578,
          37.31600382907676,
          37.28192491068157,
          37.65580986893117,
          37.679865141120736,
          37.68020511776552,
          37.433845285106194,
          37.59922149448128,
          37.66252981361951,
          37.16329067957578,
          37.38939741295005,
          37.34348269230108,
          37.362387744224534,
          37.522814177323475,
          37.20333189574742,
          37.267431583238405,
          37.333447429713445,
          37.85621605522425,
          37.20977587846761,
          37.03502705414223,
          37.68177237280792,
          37.16523514416552,
          37.403090741120195,
          37.80865755824113,
          37.96977801076026,
          37.30245841904513,
          38.09272994788225,
          37.81843317158747,
          37.51805584866492,
          37.46909896440451,
          37.48319421965915,
          37.45259301547852,
          37.39644720057102,
          37.431350028310185,
          37.49665874319289,
          37.5572969592656,
          37.5578211664087,
          37.7124407796049,
          37.54399184805737,
          37.59491731931454,
          37.56014356455128,
          37.53138496588154,
          37.551029689134396,
          37.54672023793151,
          37.58195654789304,
          37.597817379925,
          37.605701902396945,
          37.64347391355864,
          37.6691020802884,
          37.652511047990075,
          37.61921128257482,
          37.57778530916996,
          37.559313492554075,
          37.524789410208335,
          37.56123542801241,
          37.494405428561805,
          37.460567564931736,
          37.52230828857531,
          37.49887687607182,
          37.467375690587915,
          37.473295467346006,
          37.496643894287786,
          37.50561924154452,
          37.5504502432305
         ],
         "legendgroup": "",
         "lon": [
          127.00345170592813,
          126.97975833095626,
          127.01623866815787,
          127.05672837215691,
          127.10414520762339,
          127.1639099131391,
          127.10606401207816,
          127.06842308117096,
          126.91138556295353,
          126.95550271058944,
          126.78871088483272,
          126.86470131437405,
          126.98770073111683,
          127.0779127315026,
          126.8708150351491,
          126.69404118017837,
          126.87863210137762,
          126.79755818288993,
          126.72798352786324,
          127.00267946696805,
          127.13122991777773,
          127.24366064478092,
          127.05132966729167,
          126.78839282675105,
          126.92113468846478,
          126.98962545609598,
          127.2059437992103,
          127.25293314986615,
          127.12134084594211,
          127.07155107317509,
          126.81063317186106,
          127.48101411200855,
          127.3027222921287,
          126.62643062238747,
          126.87485871918203,
          127.30117595196101,
          127.00113490289873,
          127.25033728030428,
          127.61573734497841,
          127.02445639685203,
          127.45019213108927,
          127.5792644603534,
          126.48283750624735,
          126.6395439179207,
          126.66465739133639,
          126.64883462634887,
          126.72645949178474,
          126.72120944765086,
          126.73469993000738,
          126.65636443959887,
          126.40208536016095,
          125.63606673798127,
          126.97732129487218,
          126.99596813970751,
          126.97990698823577,
          127.04105853332113,
          127.08574409768114,
          127.05484812780753,
          127.09288317629846,
          127.0175794911681,
          127.01118897523992,
          127.03236881955812,
          127.07503468933729,
          126.9270228771997,
          126.93906309571523,
          126.90827002744953,
          126.8554776602346,
          126.8228066897056,
          126.85630057897217,
          126.90082024440927,
          126.91016946737669,
          126.95164145438368,
          126.94533715305027,
          127.03122031111438,
          127.0629852042479,
          127.1152950397239,
          127.14701184176552
         ],
         "marker": {
          "color": "#636efa"
         },
         "mode": "markers",
         "name": "",
         "showlegend": false,
         "subplot": "mapbox",
         "type": "scattermapbox"
        }
       ],
       "layout": {
        "legend": {
         "tracegroupgap": 0
        },
        "mapbox": {
         "center": {
          "lat": 37.49996267168222,
          "lon": 126.96365616888289
         },
         "domain": {
          "x": [
           0,
           1
          ],
          "y": [
           0,
           1
          ]
         },
         "style": "open-street-map",
         "zoom": 8
        },
        "margin": {
         "b": 0,
         "l": 0,
         "r": 0,
         "t": 0
        },
        "template": {
         "data": {
          "bar": [
           {
            "error_x": {
             "color": "#2a3f5f"
            },
            "error_y": {
             "color": "#2a3f5f"
            },
            "marker": {
             "line": {
              "color": "#E5ECF6",
              "width": 0.5
             }
            },
            "type": "bar"
           }
          ],
          "barpolar": [
           {
            "marker": {
             "line": {
              "color": "#E5ECF6",
              "width": 0.5
             }
            },
            "type": "barpolar"
           }
          ],
          "carpet": [
           {
            "aaxis": {
             "endlinecolor": "#2a3f5f",
             "gridcolor": "white",
             "linecolor": "white",
             "minorgridcolor": "white",
             "startlinecolor": "#2a3f5f"
            },
            "baxis": {
             "endlinecolor": "#2a3f5f",
             "gridcolor": "white",
             "linecolor": "white",
             "minorgridcolor": "white",
             "startlinecolor": "#2a3f5f"
            },
            "type": "carpet"
           }
          ],
          "choropleth": [
           {
            "colorbar": {
             "outlinewidth": 0,
             "ticks": ""
            },
            "type": "choropleth"
           }
          ],
          "contour": [
           {
            "colorbar": {
             "outlinewidth": 0,
             "ticks": ""
            },
            "colorscale": [
             [
              0,
              "#0d0887"
             ],
             [
              0.1111111111111111,
              "#46039f"
             ],
             [
              0.2222222222222222,
              "#7201a8"
             ],
             [
              0.3333333333333333,
              "#9c179e"
             ],
             [
              0.4444444444444444,
              "#bd3786"
             ],
             [
              0.5555555555555556,
              "#d8576b"
             ],
             [
              0.6666666666666666,
              "#ed7953"
             ],
             [
              0.7777777777777778,
              "#fb9f3a"
             ],
             [
              0.8888888888888888,
              "#fdca26"
             ],
             [
              1,
              "#f0f921"
             ]
            ],
            "type": "contour"
           }
          ],
          "contourcarpet": [
           {
            "colorbar": {
             "outlinewidth": 0,
             "ticks": ""
            },
            "type": "contourcarpet"
           }
          ],
          "heatmap": [
           {
            "colorbar": {
             "outlinewidth": 0,
             "ticks": ""
            },
            "colorscale": [
             [
              0,
              "#0d0887"
             ],
             [
              0.1111111111111111,
              "#46039f"
             ],
             [
              0.2222222222222222,
              "#7201a8"
             ],
             [
              0.3333333333333333,
              "#9c179e"
             ],
             [
              0.4444444444444444,
              "#bd3786"
             ],
             [
              0.5555555555555556,
              "#d8576b"
             ],
             [
              0.6666666666666666,
              "#ed7953"
             ],
             [
              0.7777777777777778,
              "#fb9f3a"
             ],
             [
              0.8888888888888888,
              "#fdca26"
             ],
             [
              1,
              "#f0f921"
             ]
            ],
            "type": "heatmap"
           }
          ],
          "heatmapgl": [
           {
            "colorbar": {
             "outlinewidth": 0,
             "ticks": ""
            },
            "colorscale": [
             [
              0,
              "#0d0887"
             ],
             [
              0.1111111111111111,
              "#46039f"
             ],
             [
              0.2222222222222222,
              "#7201a8"
             ],
             [
              0.3333333333333333,
              "#9c179e"
             ],
             [
              0.4444444444444444,
              "#bd3786"
             ],
             [
              0.5555555555555556,
              "#d8576b"
             ],
             [
              0.6666666666666666,
              "#ed7953"
             ],
             [
              0.7777777777777778,
              "#fb9f3a"
             ],
             [
              0.8888888888888888,
              "#fdca26"
             ],
             [
              1,
              "#f0f921"
             ]
            ],
            "type": "heatmapgl"
           }
          ],
          "histogram": [
           {
            "marker": {
             "colorbar": {
              "outlinewidth": 0,
              "ticks": ""
             }
            },
            "type": "histogram"
           }
          ],
          "histogram2d": [
           {
            "colorbar": {
             "outlinewidth": 0,
             "ticks": ""
            },
            "colorscale": [
             [
              0,
              "#0d0887"
             ],
             [
              0.1111111111111111,
              "#46039f"
             ],
             [
              0.2222222222222222,
              "#7201a8"
             ],
             [
              0.3333333333333333,
              "#9c179e"
             ],
             [
              0.4444444444444444,
              "#bd3786"
             ],
             [
              0.5555555555555556,
              "#d8576b"
             ],
             [
              0.6666666666666666,
              "#ed7953"
             ],
             [
              0.7777777777777778,
              "#fb9f3a"
             ],
             [
              0.8888888888888888,
              "#fdca26"
             ],
             [
              1,
              "#f0f921"
             ]
            ],
            "type": "histogram2d"
           }
          ],
          "histogram2dcontour": [
           {
            "colorbar": {
             "outlinewidth": 0,
             "ticks": ""
            },
            "colorscale": [
             [
              0,
              "#0d0887"
             ],
             [
              0.1111111111111111,
              "#46039f"
             ],
             [
              0.2222222222222222,
              "#7201a8"
             ],
             [
              0.3333333333333333,
              "#9c179e"
             ],
             [
              0.4444444444444444,
              "#bd3786"
             ],
             [
              0.5555555555555556,
              "#d8576b"
             ],
             [
              0.6666666666666666,
              "#ed7953"
             ],
             [
              0.7777777777777778,
              "#fb9f3a"
             ],
             [
              0.8888888888888888,
              "#fdca26"
             ],
             [
              1,
              "#f0f921"
             ]
            ],
            "type": "histogram2dcontour"
           }
          ],
          "mesh3d": [
           {
            "colorbar": {
             "outlinewidth": 0,
             "ticks": ""
            },
            "type": "mesh3d"
           }
          ],
          "parcoords": [
           {
            "line": {
             "colorbar": {
              "outlinewidth": 0,
              "ticks": ""
             }
            },
            "type": "parcoords"
           }
          ],
          "pie": [
           {
            "automargin": true,
            "type": "pie"
           }
          ],
          "scatter": [
           {
            "marker": {
             "colorbar": {
              "outlinewidth": 0,
              "ticks": ""
             }
            },
            "type": "scatter"
           }
          ],
          "scatter3d": [
           {
            "line": {
             "colorbar": {
              "outlinewidth": 0,
              "ticks": ""
             }
            },
            "marker": {
             "colorbar": {
              "outlinewidth": 0,
              "ticks": ""
             }
            },
            "type": "scatter3d"
           }
          ],
          "scattercarpet": [
           {
            "marker": {
             "colorbar": {
              "outlinewidth": 0,
              "ticks": ""
             }
            },
            "type": "scattercarpet"
           }
          ],
          "scattergeo": [
           {
            "marker": {
             "colorbar": {
              "outlinewidth": 0,
              "ticks": ""
             }
            },
            "type": "scattergeo"
           }
          ],
          "scattergl": [
           {
            "marker": {
             "colorbar": {
              "outlinewidth": 0,
              "ticks": ""
             }
            },
            "type": "scattergl"
           }
          ],
          "scattermapbox": [
           {
            "marker": {
             "colorbar": {
              "outlinewidth": 0,
              "ticks": ""
             }
            },
            "type": "scattermapbox"
           }
          ],
          "scatterpolar": [
           {
            "marker": {
             "colorbar": {
              "outlinewidth": 0,
              "ticks": ""
             }
            },
            "type": "scatterpolar"
           }
          ],
          "scatterpolargl": [
           {
            "marker": {
             "colorbar": {
              "outlinewidth": 0,
              "ticks": ""
             }
            },
            "type": "scatterpolargl"
           }
          ],
          "scatterternary": [
           {
            "marker": {
             "colorbar": {
              "outlinewidth": 0,
              "ticks": ""
             }
            },
            "type": "scatterternary"
           }
          ],
          "surface": [
           {
            "colorbar": {
             "outlinewidth": 0,
             "ticks": ""
            },
            "colorscale": [
             [
              0,
              "#0d0887"
             ],
             [
              0.1111111111111111,
              "#46039f"
             ],
             [
              0.2222222222222222,
              "#7201a8"
             ],
             [
              0.3333333333333333,
              "#9c179e"
             ],
             [
              0.4444444444444444,
              "#bd3786"
             ],
             [
              0.5555555555555556,
              "#d8576b"
             ],
             [
              0.6666666666666666,
              "#ed7953"
             ],
             [
              0.7777777777777778,
              "#fb9f3a"
             ],
             [
              0.8888888888888888,
              "#fdca26"
             ],
             [
              1,
              "#f0f921"
             ]
            ],
            "type": "surface"
           }
          ],
          "table": [
           {
            "cells": {
             "fill": {
              "color": "#EBF0F8"
             },
             "line": {
              "color": "white"
             }
            },
            "header": {
             "fill": {
              "color": "#C8D4E3"
             },
             "line": {
              "color": "white"
             }
            },
            "type": "table"
           }
          ]
         },
         "layout": {
          "annotationdefaults": {
           "arrowcolor": "#2a3f5f",
           "arrowhead": 0,
           "arrowwidth": 1
          },
          "autotypenumbers": "strict",
          "coloraxis": {
           "colorbar": {
            "outlinewidth": 0,
            "ticks": ""
           }
          },
          "colorscale": {
           "diverging": [
            [
             0,
             "#8e0152"
            ],
            [
             0.1,
             "#c51b7d"
            ],
            [
             0.2,
             "#de77ae"
            ],
            [
             0.3,
             "#f1b6da"
            ],
            [
             0.4,
             "#fde0ef"
            ],
            [
             0.5,
             "#f7f7f7"
            ],
            [
             0.6,
             "#e6f5d0"
            ],
            [
             0.7,
             "#b8e186"
            ],
            [
             0.8,
             "#7fbc41"
            ],
            [
             0.9,
             "#4d9221"
            ],
            [
             1,
             "#276419"
            ]
           ],
           "sequential": [
            [
             0,
             "#0d0887"
            ],
            [
             0.1111111111111111,
             "#46039f"
            ],
            [
             0.2222222222222222,
             "#7201a8"
            ],
            [
             0.3333333333333333,
             "#9c179e"
            ],
            [
             0.4444444444444444,
             "#bd3786"
            ],
            [
             0.5555555555555556,
             "#d8576b"
            ],
            [
             0.6666666666666666,
             "#ed7953"
            ],
            [
             0.7777777777777778,
             "#fb9f3a"
            ],
            [
             0.8888888888888888,
             "#fdca26"
            ],
            [
             1,
             "#f0f921"
            ]
           ],
           "sequentialminus": [
            [
             0,
             "#0d0887"
            ],
            [
             0.1111111111111111,
             "#46039f"
            ],
            [
             0.2222222222222222,
             "#7201a8"
            ],
            [
             0.3333333333333333,
             "#9c179e"
            ],
            [
             0.4444444444444444,
             "#bd3786"
            ],
            [
             0.5555555555555556,
             "#d8576b"
            ],
            [
             0.6666666666666666,
             "#ed7953"
            ],
            [
             0.7777777777777778,
             "#fb9f3a"
            ],
            [
             0.8888888888888888,
             "#fdca26"
            ],
            [
             1,
             "#f0f921"
            ]
           ]
          },
          "colorway": [
           "#636efa",
           "#EF553B",
           "#00cc96",
           "#ab63fa",
           "#FFA15A",
           "#19d3f3",
           "#FF6692",
           "#B6E880",
           "#FF97FF",
           "#FECB52"
          ],
          "font": {
           "color": "#2a3f5f"
          },
          "geo": {
           "bgcolor": "white",
           "lakecolor": "white",
           "landcolor": "#E5ECF6",
           "showlakes": true,
           "showland": true,
           "subunitcolor": "white"
          },
          "hoverlabel": {
           "align": "left"
          },
          "hovermode": "closest",
          "mapbox": {
           "style": "light"
          },
          "paper_bgcolor": "white",
          "plot_bgcolor": "#E5ECF6",
          "polar": {
           "angularaxis": {
            "gridcolor": "white",
            "linecolor": "white",
            "ticks": ""
           },
           "bgcolor": "#E5ECF6",
           "radialaxis": {
            "gridcolor": "white",
            "linecolor": "white",
            "ticks": ""
           }
          },
          "scene": {
           "xaxis": {
            "backgroundcolor": "#E5ECF6",
            "gridcolor": "white",
            "gridwidth": 2,
            "linecolor": "white",
            "showbackground": true,
            "ticks": "",
            "zerolinecolor": "white"
           },
           "yaxis": {
            "backgroundcolor": "#E5ECF6",
            "gridcolor": "white",
            "gridwidth": 2,
            "linecolor": "white",
            "showbackground": true,
            "ticks": "",
            "zerolinecolor": "white"
           },
           "zaxis": {
            "backgroundcolor": "#E5ECF6",
            "gridcolor": "white",
            "gridwidth": 2,
            "linecolor": "white",
            "showbackground": true,
            "ticks": "",
            "zerolinecolor": "white"
           }
          },
          "shapedefaults": {
           "line": {
            "color": "#2a3f5f"
           }
          },
          "ternary": {
           "aaxis": {
            "gridcolor": "white",
            "linecolor": "white",
            "ticks": ""
           },
           "baxis": {
            "gridcolor": "white",
            "linecolor": "white",
            "ticks": ""
           },
           "bgcolor": "#E5ECF6",
           "caxis": {
            "gridcolor": "white",
            "linecolor": "white",
            "ticks": ""
           }
          },
          "title": {
           "x": 0.05
          },
          "xaxis": {
           "automargin": true,
           "gridcolor": "white",
           "linecolor": "white",
           "ticks": "",
           "title": {
            "standoff": 15
           },
           "zerolinecolor": "white",
           "zerolinewidth": 2
          },
          "yaxis": {
           "automargin": true,
           "gridcolor": "white",
           "linecolor": "white",
           "ticks": "",
           "title": {
            "standoff": 15
           },
           "zerolinecolor": "white",
           "zerolinewidth": 2
          }
         }
        }
       }
      }
     },
     "metadata": {}
    }
   ],
   "source": [
    "import nbformat\n",
    "fig.update_layout(margin={\"r\":0,\"t\":0,\"l\":0,\"b\":0})"
   ]
  },
  {
   "cell_type": "code",
   "execution_count": 6,
   "metadata": {},
   "outputs": [],
   "source": [
    "chart_studio.tools.set_credentials_file(username='niceguy1575', api_key='')\n",
    "chart = py.plot(fig, filename = 'sgg_test_0608', auto_open = False, fileopt = 'overwrite', sharing = 'public')"
   ]
  },
  {
   "cell_type": "code",
   "execution_count": null,
   "metadata": {},
   "outputs": [],
   "source": [
    "# 좌표변환 "
   ]
  },
  {
   "cell_type": "code",
   "execution_count": 247,
   "metadata": {},
   "outputs": [],
   "source": [
    "gdf2 = gdf2.to_crs(4326)"
   ]
  },
  {
   "cell_type": "code",
   "execution_count": 249,
   "metadata": {},
   "outputs": [],
   "source": [
    "gdf2['lon'] = gdf2.geometry.x\n",
    "gdf2['lat'] = gdf2.geometry.y"
   ]
  },
  {
   "cell_type": "code",
   "execution_count": 267,
   "metadata": {},
   "outputs": [],
   "source": [
    "fig = px.scatter_mapbox(gdf2,lat = 'lat',lon = 'lon',hover_name = 'Name',mapbox_style = 'open-street-map')"
   ]
  },
  {
   "cell_type": "code",
   "execution_count": 264,
   "metadata": {},
   "outputs": [
    {
     "data": {
      "text/plain": [
       "'notion_update2.html'"
      ]
     },
     "execution_count": 264,
     "metadata": {},
     "output_type": "execute_result"
    }
   ],
   "source": [
    "plot(fig, filename='notion_update2.html')"
   ]
  },
  {
   "cell_type": "code",
   "execution_count": 8,
   "metadata": {},
   "outputs": [
    {
     "output_type": "stream",
     "name": "stdout",
     "text": [
      "Help on function get_config in module chart_studio.config:\n\nget_config()\n    Returns either module config or file config.\n\n"
     ]
    }
   ],
   "source": [
    "help(py.get_config)"
   ]
  },
  {
   "cell_type": "code",
   "execution_count": 13,
   "metadata": {},
   "outputs": [
    {
     "output_type": "stream",
     "name": "stdout",
     "text": [
      "Help on function set_config_file in module chart_studio.tools:\n\nset_config_file(plotly_domain=None, plotly_streaming_domain=None, plotly_api_domain=None, plotly_ssl_verification=None, plotly_proxy_authorization=None, world_readable=None, sharing=None, auto_open=None)\n    Set the keyword-value pairs in `~/.plotly/.config`.\n    \n    :param (str) plotly_domain: ex - https://plotly.com\n    :param (str) plotly_streaming_domain: ex - stream.plotly.com\n    :param (str) plotly_api_domain: ex - https://api.plotly.com\n    :param (bool) plotly_ssl_verification: True = verify, False = don't verify\n    :param (bool) plotly_proxy_authorization: True = use plotly proxy auth creds\n    :param (bool) world_readable: True = public, False = private\n\n"
     ]
    }
   ],
   "source": [
    "help(chart_studio.config.tools.set_config_file)"
   ]
  },
  {
   "cell_type": "code",
   "execution_count": 1,
   "metadata": {},
   "outputs": [
    {
     "output_type": "display_data",
     "data": {
      "application/vnd.plotly.v1+json": {
       "config": {
        "displayModeBar": true,
        "editable": true,
        "plotlyServerURL": "https://plotly.com",
        "scrollZoom": true
       },
       "data": [
        {
         "hovertemplate": "<b>%{hovertext}</b><br><br>lat=%{lat}<br>lon=%{lon}<extra></extra>",
         "hovertext": [
          "수원시 장안구",
          "수원시 권선구",
          "수원시 팔달구",
          "수원시 영통구",
          "성남시 수정구",
          "성남시 중원구",
          "성남시 분당구",
          "의정부시",
          "안양시만안구",
          "안양시동안구",
          "부천시",
          "광명시",
          "평택시",
          "동두천시",
          "안산시상록구",
          "안산시단원구",
          "고양시덕양구",
          "고양시일산동구",
          "고양시일산서구",
          "과천시",
          "구리시",
          "남양주시",
          "오산시",
          "시흥시",
          "군포시",
          "의왕시",
          "하남시",
          "용인시처인구",
          "용인시기흥구",
          "용인시수지구",
          "파주시",
          "이천시",
          "안성시",
          "김포시",
          "화성시",
          "광주시",
          "양주시",
          "포천시",
          "여주시",
          "연천군",
          "가평군",
          "양평군",
          "중구",
          "동구",
          "미추홀구",
          "연수구",
          "남동구",
          "부평구",
          "계양구",
          "서구",
          "강화군",
          "옹진군",
          "종로구",
          "중구",
          "용산구",
          "성동구",
          "광진구",
          "동대문구",
          "중랑구",
          "성북구",
          "강북구",
          "도봉구",
          "노원구",
          "은평구",
          "서대문구",
          "마포구",
          "양천구",
          "강서구",
          "구로구",
          "금천구",
          "영등포구",
          "동작구",
          "관악구",
          "서초구",
          "강남구",
          "송파구",
          "강동구"
         ],
         "lat": [
          37.31396569493724,
          37.260524760000735,
          37.277463626377234,
          37.27501901178796,
          37.43516624341917,
          37.43343323230392,
          37.37930156520035,
          37.73619210869816,
          37.40413344823063,
          37.40039183321457,
          37.5042583329253,
          37.44515907294813,
          37.01183071199069,
          37.91653760805578,
          37.31600382907676,
          37.28192491068157,
          37.65580986893117,
          37.679865141120736,
          37.68020511776552,
          37.433845285106194,
          37.59922149448128,
          37.66252981361951,
          37.16329067957578,
          37.38939741295005,
          37.34348269230108,
          37.362387744224534,
          37.522814177323475,
          37.20333189574742,
          37.267431583238405,
          37.333447429713445,
          37.85621605522425,
          37.20977587846761,
          37.03502705414223,
          37.68177237280792,
          37.16523514416552,
          37.403090741120195,
          37.80865755824113,
          37.96977801076026,
          37.30245841904513,
          38.09272994788225,
          37.81843317158747,
          37.51805584866492,
          37.46909896440451,
          37.48319421965915,
          37.45259301547852,
          37.39644720057102,
          37.431350028310185,
          37.49665874319289,
          37.5572969592656,
          37.5578211664087,
          37.7124407796049,
          37.54399184805737,
          37.59491731931454,
          37.56014356455128,
          37.53138496588154,
          37.551029689134396,
          37.54672023793151,
          37.58195654789304,
          37.597817379925,
          37.605701902396945,
          37.64347391355864,
          37.6691020802884,
          37.652511047990075,
          37.61921128257482,
          37.57778530916996,
          37.559313492554075,
          37.524789410208335,
          37.56123542801241,
          37.494405428561805,
          37.460567564931736,
          37.52230828857531,
          37.49887687607182,
          37.467375690587915,
          37.473295467346006,
          37.496643894287786,
          37.50561924154452,
          37.5504502432305
         ],
         "legendgroup": "",
         "lon": [
          127.00345170592813,
          126.97975833095626,
          127.01623866815787,
          127.05672837215691,
          127.10414520762339,
          127.1639099131391,
          127.10606401207816,
          127.06842308117096,
          126.91138556295353,
          126.95550271058944,
          126.78871088483272,
          126.86470131437405,
          126.98770073111683,
          127.0779127315026,
          126.8708150351491,
          126.69404118017837,
          126.87863210137762,
          126.79755818288993,
          126.72798352786324,
          127.00267946696805,
          127.13122991777773,
          127.24366064478092,
          127.05132966729167,
          126.78839282675105,
          126.92113468846478,
          126.98962545609598,
          127.2059437992103,
          127.25293314986615,
          127.12134084594211,
          127.07155107317509,
          126.81063317186106,
          127.48101411200855,
          127.3027222921287,
          126.62643062238747,
          126.87485871918203,
          127.30117595196101,
          127.00113490289873,
          127.25033728030428,
          127.61573734497841,
          127.02445639685203,
          127.45019213108927,
          127.5792644603534,
          126.48283750624735,
          126.6395439179207,
          126.66465739133639,
          126.64883462634887,
          126.72645949178474,
          126.72120944765086,
          126.73469993000738,
          126.65636443959887,
          126.40208536016095,
          125.63606673798127,
          126.97732129487218,
          126.99596813970751,
          126.97990698823577,
          127.04105853332113,
          127.08574409768114,
          127.05484812780753,
          127.09288317629846,
          127.0175794911681,
          127.01118897523992,
          127.03236881955812,
          127.07503468933729,
          126.9270228771997,
          126.93906309571523,
          126.90827002744953,
          126.8554776602346,
          126.8228066897056,
          126.85630057897217,
          126.90082024440927,
          126.91016946737669,
          126.95164145438368,
          126.94533715305027,
          127.03122031111438,
          127.0629852042479,
          127.1152950397239,
          127.14701184176552
         ],
         "marker": {
          "color": "#636efa"
         },
         "mode": "markers",
         "name": "",
         "showlegend": false,
         "subplot": "mapbox",
         "type": "scattermapbox"
        }
       ],
       "layout": {
        "legend": {
         "tracegroupgap": 0
        },
        "mapbox": {
         "center": {
          "lat": 37.49996267168222,
          "lon": 126.96365616888289
         },
         "domain": {
          "x": [
           0,
           1
          ],
          "y": [
           0,
           1
          ]
         },
         "style": "open-street-map",
         "zoom": 8
        },
        "margin": {
         "b": 0,
         "l": 0,
         "r": 0,
         "t": 0
        },
        "template": {
         "data": {
          "bar": [
           {
            "error_x": {
             "color": "#2a3f5f"
            },
            "error_y": {
             "color": "#2a3f5f"
            },
            "marker": {
             "line": {
              "color": "#E5ECF6",
              "width": 0.5
             }
            },
            "type": "bar"
           }
          ],
          "barpolar": [
           {
            "marker": {
             "line": {
              "color": "#E5ECF6",
              "width": 0.5
             }
            },
            "type": "barpolar"
           }
          ],
          "carpet": [
           {
            "aaxis": {
             "endlinecolor": "#2a3f5f",
             "gridcolor": "white",
             "linecolor": "white",
             "minorgridcolor": "white",
             "startlinecolor": "#2a3f5f"
            },
            "baxis": {
             "endlinecolor": "#2a3f5f",
             "gridcolor": "white",
             "linecolor": "white",
             "minorgridcolor": "white",
             "startlinecolor": "#2a3f5f"
            },
            "type": "carpet"
           }
          ],
          "choropleth": [
           {
            "colorbar": {
             "outlinewidth": 0,
             "ticks": ""
            },
            "type": "choropleth"
           }
          ],
          "contour": [
           {
            "colorbar": {
             "outlinewidth": 0,
             "ticks": ""
            },
            "colorscale": [
             [
              0,
              "#0d0887"
             ],
             [
              0.1111111111111111,
              "#46039f"
             ],
             [
              0.2222222222222222,
              "#7201a8"
             ],
             [
              0.3333333333333333,
              "#9c179e"
             ],
             [
              0.4444444444444444,
              "#bd3786"
             ],
             [
              0.5555555555555556,
              "#d8576b"
             ],
             [
              0.6666666666666666,
              "#ed7953"
             ],
             [
              0.7777777777777778,
              "#fb9f3a"
             ],
             [
              0.8888888888888888,
              "#fdca26"
             ],
             [
              1,
              "#f0f921"
             ]
            ],
            "type": "contour"
           }
          ],
          "contourcarpet": [
           {
            "colorbar": {
             "outlinewidth": 0,
             "ticks": ""
            },
            "type": "contourcarpet"
           }
          ],
          "heatmap": [
           {
            "colorbar": {
             "outlinewidth": 0,
             "ticks": ""
            },
            "colorscale": [
             [
              0,
              "#0d0887"
             ],
             [
              0.1111111111111111,
              "#46039f"
             ],
             [
              0.2222222222222222,
              "#7201a8"
             ],
             [
              0.3333333333333333,
              "#9c179e"
             ],
             [
              0.4444444444444444,
              "#bd3786"
             ],
             [
              0.5555555555555556,
              "#d8576b"
             ],
             [
              0.6666666666666666,
              "#ed7953"
             ],
             [
              0.7777777777777778,
              "#fb9f3a"
             ],
             [
              0.8888888888888888,
              "#fdca26"
             ],
             [
              1,
              "#f0f921"
             ]
            ],
            "type": "heatmap"
           }
          ],
          "heatmapgl": [
           {
            "colorbar": {
             "outlinewidth": 0,
             "ticks": ""
            },
            "colorscale": [
             [
              0,
              "#0d0887"
             ],
             [
              0.1111111111111111,
              "#46039f"
             ],
             [
              0.2222222222222222,
              "#7201a8"
             ],
             [
              0.3333333333333333,
              "#9c179e"
             ],
             [
              0.4444444444444444,
              "#bd3786"
             ],
             [
              0.5555555555555556,
              "#d8576b"
             ],
             [
              0.6666666666666666,
              "#ed7953"
             ],
             [
              0.7777777777777778,
              "#fb9f3a"
             ],
             [
              0.8888888888888888,
              "#fdca26"
             ],
             [
              1,
              "#f0f921"
             ]
            ],
            "type": "heatmapgl"
           }
          ],
          "histogram": [
           {
            "marker": {
             "colorbar": {
              "outlinewidth": 0,
              "ticks": ""
             }
            },
            "type": "histogram"
           }
          ],
          "histogram2d": [
           {
            "colorbar": {
             "outlinewidth": 0,
             "ticks": ""
            },
            "colorscale": [
             [
              0,
              "#0d0887"
             ],
             [
              0.1111111111111111,
              "#46039f"
             ],
             [
              0.2222222222222222,
              "#7201a8"
             ],
             [
              0.3333333333333333,
              "#9c179e"
             ],
             [
              0.4444444444444444,
              "#bd3786"
             ],
             [
              0.5555555555555556,
              "#d8576b"
             ],
             [
              0.6666666666666666,
              "#ed7953"
             ],
             [
              0.7777777777777778,
              "#fb9f3a"
             ],
             [
              0.8888888888888888,
              "#fdca26"
             ],
             [
              1,
              "#f0f921"
             ]
            ],
            "type": "histogram2d"
           }
          ],
          "histogram2dcontour": [
           {
            "colorbar": {
             "outlinewidth": 0,
             "ticks": ""
            },
            "colorscale": [
             [
              0,
              "#0d0887"
             ],
             [
              0.1111111111111111,
              "#46039f"
             ],
             [
              0.2222222222222222,
              "#7201a8"
             ],
             [
              0.3333333333333333,
              "#9c179e"
             ],
             [
              0.4444444444444444,
              "#bd3786"
             ],
             [
              0.5555555555555556,
              "#d8576b"
             ],
             [
              0.6666666666666666,
              "#ed7953"
             ],
             [
              0.7777777777777778,
              "#fb9f3a"
             ],
             [
              0.8888888888888888,
              "#fdca26"
             ],
             [
              1,
              "#f0f921"
             ]
            ],
            "type": "histogram2dcontour"
           }
          ],
          "mesh3d": [
           {
            "colorbar": {
             "outlinewidth": 0,
             "ticks": ""
            },
            "type": "mesh3d"
           }
          ],
          "parcoords": [
           {
            "line": {
             "colorbar": {
              "outlinewidth": 0,
              "ticks": ""
             }
            },
            "type": "parcoords"
           }
          ],
          "pie": [
           {
            "automargin": true,
            "type": "pie"
           }
          ],
          "scatter": [
           {
            "marker": {
             "colorbar": {
              "outlinewidth": 0,
              "ticks": ""
             }
            },
            "type": "scatter"
           }
          ],
          "scatter3d": [
           {
            "line": {
             "colorbar": {
              "outlinewidth": 0,
              "ticks": ""
             }
            },
            "marker": {
             "colorbar": {
              "outlinewidth": 0,
              "ticks": ""
             }
            },
            "type": "scatter3d"
           }
          ],
          "scattercarpet": [
           {
            "marker": {
             "colorbar": {
              "outlinewidth": 0,
              "ticks": ""
             }
            },
            "type": "scattercarpet"
           }
          ],
          "scattergeo": [
           {
            "marker": {
             "colorbar": {
              "outlinewidth": 0,
              "ticks": ""
             }
            },
            "type": "scattergeo"
           }
          ],
          "scattergl": [
           {
            "marker": {
             "colorbar": {
              "outlinewidth": 0,
              "ticks": ""
             }
            },
            "type": "scattergl"
           }
          ],
          "scattermapbox": [
           {
            "marker": {
             "colorbar": {
              "outlinewidth": 0,
              "ticks": ""
             }
            },
            "type": "scattermapbox"
           }
          ],
          "scatterpolar": [
           {
            "marker": {
             "colorbar": {
              "outlinewidth": 0,
              "ticks": ""
             }
            },
            "type": "scatterpolar"
           }
          ],
          "scatterpolargl": [
           {
            "marker": {
             "colorbar": {
              "outlinewidth": 0,
              "ticks": ""
             }
            },
            "type": "scatterpolargl"
           }
          ],
          "scatterternary": [
           {
            "marker": {
             "colorbar": {
              "outlinewidth": 0,
              "ticks": ""
             }
            },
            "type": "scatterternary"
           }
          ],
          "surface": [
           {
            "colorbar": {
             "outlinewidth": 0,
             "ticks": ""
            },
            "colorscale": [
             [
              0,
              "#0d0887"
             ],
             [
              0.1111111111111111,
              "#46039f"
             ],
             [
              0.2222222222222222,
              "#7201a8"
             ],
             [
              0.3333333333333333,
              "#9c179e"
             ],
             [
              0.4444444444444444,
              "#bd3786"
             ],
             [
              0.5555555555555556,
              "#d8576b"
             ],
             [
              0.6666666666666666,
              "#ed7953"
             ],
             [
              0.7777777777777778,
              "#fb9f3a"
             ],
             [
              0.8888888888888888,
              "#fdca26"
             ],
             [
              1,
              "#f0f921"
             ]
            ],
            "type": "surface"
           }
          ],
          "table": [
           {
            "cells": {
             "fill": {
              "color": "#EBF0F8"
             },
             "line": {
              "color": "white"
             }
            },
            "header": {
             "fill": {
              "color": "#C8D4E3"
             },
             "line": {
              "color": "white"
             }
            },
            "type": "table"
           }
          ]
         },
         "layout": {
          "annotationdefaults": {
           "arrowcolor": "#2a3f5f",
           "arrowhead": 0,
           "arrowwidth": 1
          },
          "autotypenumbers": "strict",
          "coloraxis": {
           "colorbar": {
            "outlinewidth": 0,
            "ticks": ""
           }
          },
          "colorscale": {
           "diverging": [
            [
             0,
             "#8e0152"
            ],
            [
             0.1,
             "#c51b7d"
            ],
            [
             0.2,
             "#de77ae"
            ],
            [
             0.3,
             "#f1b6da"
            ],
            [
             0.4,
             "#fde0ef"
            ],
            [
             0.5,
             "#f7f7f7"
            ],
            [
             0.6,
             "#e6f5d0"
            ],
            [
             0.7,
             "#b8e186"
            ],
            [
             0.8,
             "#7fbc41"
            ],
            [
             0.9,
             "#4d9221"
            ],
            [
             1,
             "#276419"
            ]
           ],
           "sequential": [
            [
             0,
             "#0d0887"
            ],
            [
             0.1111111111111111,
             "#46039f"
            ],
            [
             0.2222222222222222,
             "#7201a8"
            ],
            [
             0.3333333333333333,
             "#9c179e"
            ],
            [
             0.4444444444444444,
             "#bd3786"
            ],
            [
             0.5555555555555556,
             "#d8576b"
            ],
            [
             0.6666666666666666,
             "#ed7953"
            ],
            [
             0.7777777777777778,
             "#fb9f3a"
            ],
            [
             0.8888888888888888,
             "#fdca26"
            ],
            [
             1,
             "#f0f921"
            ]
           ],
           "sequentialminus": [
            [
             0,
             "#0d0887"
            ],
            [
             0.1111111111111111,
             "#46039f"
            ],
            [
             0.2222222222222222,
             "#7201a8"
            ],
            [
             0.3333333333333333,
             "#9c179e"
            ],
            [
             0.4444444444444444,
             "#bd3786"
            ],
            [
             0.5555555555555556,
             "#d8576b"
            ],
            [
             0.6666666666666666,
             "#ed7953"
            ],
            [
             0.7777777777777778,
             "#fb9f3a"
            ],
            [
             0.8888888888888888,
             "#fdca26"
            ],
            [
             1,
             "#f0f921"
            ]
           ]
          },
          "colorway": [
           "#636efa",
           "#EF553B",
           "#00cc96",
           "#ab63fa",
           "#FFA15A",
           "#19d3f3",
           "#FF6692",
           "#B6E880",
           "#FF97FF",
           "#FECB52"
          ],
          "font": {
           "color": "#2a3f5f"
          },
          "geo": {
           "bgcolor": "white",
           "lakecolor": "white",
           "landcolor": "#E5ECF6",
           "showlakes": true,
           "showland": true,
           "subunitcolor": "white"
          },
          "hoverlabel": {
           "align": "left"
          },
          "hovermode": "closest",
          "mapbox": {
           "style": "light"
          },
          "paper_bgcolor": "white",
          "plot_bgcolor": "#E5ECF6",
          "polar": {
           "angularaxis": {
            "gridcolor": "white",
            "linecolor": "white",
            "ticks": ""
           },
           "bgcolor": "#E5ECF6",
           "radialaxis": {
            "gridcolor": "white",
            "linecolor": "white",
            "ticks": ""
           }
          },
          "scene": {
           "xaxis": {
            "backgroundcolor": "#E5ECF6",
            "gridcolor": "white",
            "gridwidth": 2,
            "linecolor": "white",
            "showbackground": true,
            "ticks": "",
            "zerolinecolor": "white"
           },
           "yaxis": {
            "backgroundcolor": "#E5ECF6",
            "gridcolor": "white",
            "gridwidth": 2,
            "linecolor": "white",
            "showbackground": true,
            "ticks": "",
            "zerolinecolor": "white"
           },
           "zaxis": {
            "backgroundcolor": "#E5ECF6",
            "gridcolor": "white",
            "gridwidth": 2,
            "linecolor": "white",
            "showbackground": true,
            "ticks": "",
            "zerolinecolor": "white"
           }
          },
          "shapedefaults": {
           "line": {
            "color": "#2a3f5f"
           }
          },
          "ternary": {
           "aaxis": {
            "gridcolor": "white",
            "linecolor": "white",
            "ticks": ""
           },
           "baxis": {
            "gridcolor": "white",
            "linecolor": "white",
            "ticks": ""
           },
           "bgcolor": "#E5ECF6",
           "caxis": {
            "gridcolor": "white",
            "linecolor": "white",
            "ticks": ""
           }
          },
          "title": {
           "x": 0.05
          },
          "xaxis": {
           "automargin": true,
           "gridcolor": "white",
           "linecolor": "white",
           "ticks": "",
           "title": {
            "standoff": 15
           },
           "zerolinecolor": "white",
           "zerolinewidth": 2
          },
          "yaxis": {
           "automargin": true,
           "gridcolor": "white",
           "linecolor": "white",
           "ticks": "",
           "title": {
            "standoff": 15
           },
           "zerolinecolor": "white",
           "zerolinewidth": 2
          }
         }
        }
       }
      }
     },
     "metadata": {}
    }
   ],
   "source": [
    "import geopandas as gpd\n",
    "import pandas as pd\n",
    "import numpy as np\n",
    "from plotly import graph_objects as go\n",
    "from plotly import express as px\n",
    "from shapely import wkt\n",
    "import json\n",
    "import chart_studio\n",
    "import chart_studio.plotly as py\n",
    "from shapely.geometry import Point\n",
    "\n",
    "# data setup\n",
    "data = pd.read_csv(\"/Users/jongwon/git/yourmap/result/sgg_bind.txt\", sep = \"|\")\n",
    "data['wkt'] = data.geometry.apply(wkt.loads)\n",
    "\n",
    "gdf = gpd.GeoDataFrame(data, geometry = 'wkt')\n",
    "gdf['ptr_wkt'] = gdf.centroid\n",
    "\n",
    "gdf2 = gdf[['sgg_cd', 'sgg_nm','ptr_wkt']].copy()\n",
    "gdf2 = gpd.GeoDataFrame(gdf2, geometry = 'ptr_wkt')\n",
    "gdf2 = gdf2.set_crs(epsg = 5179)\n",
    "gdf2 = gdf2.to_crs(epsg = 4326)\n",
    "\n",
    "# json processing\n",
    "res = gdf2.copy()\n",
    "res['lon'] = res.geometry.x\n",
    "res['lat'] = res.geometry.y\n",
    "\n",
    "config = dict({\n",
    "    'scrollZoom': True,\n",
    "    'displayModeBar': True,\n",
    "    'editable': True\n",
    "})\n",
    "\n",
    "fig = px.scatter_mapbox(res,lat = 'lat',lon = 'lon',hover_name = 'sgg_nm',mapbox_style = 'open-street-map')\n",
    "fig.update_layout(margin={\"r\":0,\"t\":0,\"l\":0,\"b\":0})\n",
    "fig.show(config=config)\n",
    "\n",
    "# chart-studio\n",
    "# API ID: niceguy1575\n",
    "# API PW: ca9QST3zpIW8HPGxoi16\n",
    "chart_studio.tools.set_credentials_file(username='niceguy1575', api_key='')\n",
    "chart = py.plot(fig, filename = 'sgg_test_0609', auto_open = False, fileopt = 'overwrite', sharing = 'public')\n"
   ]
  },
  {
   "cell_type": "code",
   "execution_count": 83,
   "metadata": {},
   "outputs": [],
   "source": [
    "k = 10\n",
    "a = res.iloc[1:k].copy()\n",
    "b = res.iloc[1:k].copy()\n",
    "c = res.iloc[1:k].copy()\n",
    "d = res.iloc[1:k].copy()\n",
    "\n",
    "e = pd.concat([a,b,c,d], axis = 0)"
   ]
  },
  {
   "cell_type": "code",
   "execution_count": 84,
   "metadata": {},
   "outputs": [],
   "source": [
    "e2 = e.to_crs(epsg = 5179)\n",
    "e2['grp_rn'] = e2.groupby(['sgg_nm']).cumcount() + 1\n",
    "e2.sort_values(by = ['sgg_nm'])\n",
    "\n",
    "n = e2.shape[0]\n",
    "cnt = 99999\n",
    "width_m = 500\n",
    "height_m = 500\n",
    "threshold = 250\n",
    "\n",
    "# random number concept\n",
    "# 1. 무수히 많은 random number generation\n",
    "# 2. 이 중 가로/세로 거리가 250m 이상인 점들만을 도출\n",
    "np.random.seed(1575)\n",
    "rn = np.random.rand(cnt)\n",
    "rn = rn[rn * width_m > threshold][:n] \n",
    "width_rn = rn * width_m\n",
    "\n",
    "rn = np.random.rand(cnt)\n",
    "rn = rn[rn * height_m > threshold][:n]\n",
    "height_rn = rn * height_m\n",
    "\n",
    "width_idx = np.where(np.random.rand(n) < 0.5, -1, 1)\n",
    "height_idx = np.where(np.random.rand(n) < 0.5, -1, 1)"
   ]
  },
  {
   "cell_type": "code",
   "execution_count": 85,
   "metadata": {},
   "outputs": [],
   "source": [
    "#e2['width_move'] = width_rn * width_idx\n",
    "#e2['height_move'] = height_rn * height_idx\n",
    "\n",
    "e2['x_utmk'] = e2.ptr_wkt.x + width_rn * width_idx\n",
    "e2['y_utmk'] = e2.ptr_wkt.y + height_rn * height_idx\n",
    "\n",
    "e2_res = gpd.GeoDataFrame(e2[['sgg_nm', 'x_utmk', 'y_utmk']],geometry = [Point(x,y) for x,y in zip(e2.x_utmk,e2.y_utmk)],crs = 5179)\n",
    "e2_res = e2_res.to_crs(epsg = 4326)\n",
    "\n",
    "e2_res['lon'] = e2_res.geometry.x\n",
    "e2_res['lat'] = e2_res.geometry.y"
   ]
  },
  {
   "cell_type": "code",
   "execution_count": 90,
   "metadata": {},
   "outputs": [
    {
     "output_type": "display_data",
     "data": {
      "application/vnd.plotly.v1+json": {
       "config": {
        "plotlyServerURL": "https://plotly.com"
       },
       "data": [
        {
         "hovertemplate": "<b>%{hovertext}</b><br><br>lat=%{lat}<br>lon=%{lon}<extra></extra>",
         "hovertext": [
          "수원시 권선구",
          "수원시 팔달구",
          "수원시 영통구",
          "성남시 수정구",
          "성남시 중원구",
          "성남시 분당구",
          "의정부시",
          "안양시만안구",
          "안양시동안구",
          "수원시 권선구",
          "수원시 팔달구",
          "수원시 영통구",
          "성남시 수정구",
          "성남시 중원구",
          "성남시 분당구",
          "의정부시",
          "안양시만안구",
          "안양시동안구",
          "수원시 권선구",
          "수원시 팔달구",
          "수원시 영통구",
          "성남시 수정구",
          "성남시 중원구",
          "성남시 분당구",
          "의정부시",
          "안양시만안구",
          "안양시동안구",
          "수원시 권선구",
          "수원시 팔달구",
          "수원시 영통구",
          "성남시 수정구",
          "성남시 중원구",
          "성남시 분당구",
          "의정부시",
          "안양시만안구",
          "안양시동안구"
         ],
         "lat": [
          37.26292151492645,
          37.27453193343592,
          37.272402308602786,
          37.43761977253158,
          37.430329578510246,
          37.37665715541674,
          37.73333098140808,
          37.40053186273425,
          37.39814263261847,
          37.2649532944841,
          37.28036125671698,
          37.27149547972607,
          37.43861449734961,
          37.42922947712518,
          37.37497755725341,
          37.73877489094879,
          37.4006561940568,
          37.397850243792696,
          37.26437699407816,
          37.273158772525214,
          37.270613508122416,
          37.431351377893016,
          37.43773167296299,
          37.38209656555268,
          37.738786879231846,
          37.40030445376496,
          37.39721581279585,
          37.25666089373787,
          37.2816230302821,
          37.279241921769106,
          37.431940954479394,
          37.42932668830232,
          37.383087175498865,
          37.73213102793534,
          37.40058677710685,
          37.39723734460636
         ],
         "legendgroup": "",
         "lon": [
          126.98366957681185,
          127.02104414567314,
          127.05388769278323,
          127.10963823655729,
          127.16897076107,
          127.1104514249256,
          127.07206483584385,
          126.91522559966322,
          126.95858107271148,
          126.9846746482132,
          127.02154927780914,
          127.05301638421793,
          127.10844944892632,
          127.16924423112123,
          127.10284487019737,
          127.06340593902917,
          126.91492893994334,
          126.9504900238249,
          126.97486670320723,
          127.01330427300083,
          127.06143334283492,
          127.10719531783727,
          127.16859742571607,
          127.11087584420191,
          127.0728437841551,
          126.90734660439736,
          126.95871883253663,
          126.9848761171801,
          127.01191449823493,
          127.061234782929,
          127.10932149201366,
          127.16027844324445,
          127.10984216310767,
          127.06395579572191,
          126.90621460153955,
          126.95959843243979
         ],
         "marker": {
          "color": "#636efa"
         },
         "mode": "markers",
         "name": "",
         "showlegend": false,
         "subplot": "mapbox",
         "type": "scattermapbox"
        }
       ],
       "layout": {
        "legend": {
         "tracegroupgap": 0
        },
        "mapbox": {
         "center": {
          "lat": 37.39919034673009,
          "lon": 127.04179321010058
         },
         "domain": {
          "x": [
           0,
           1
          ],
          "y": [
           0,
           1
          ]
         },
         "style": "open-street-map",
         "zoom": 8
        },
        "margin": {
         "b": 0,
         "l": 0,
         "r": 0,
         "t": 0
        },
        "template": {
         "data": {
          "bar": [
           {
            "error_x": {
             "color": "#2a3f5f"
            },
            "error_y": {
             "color": "#2a3f5f"
            },
            "marker": {
             "line": {
              "color": "#E5ECF6",
              "width": 0.5
             }
            },
            "type": "bar"
           }
          ],
          "barpolar": [
           {
            "marker": {
             "line": {
              "color": "#E5ECF6",
              "width": 0.5
             }
            },
            "type": "barpolar"
           }
          ],
          "carpet": [
           {
            "aaxis": {
             "endlinecolor": "#2a3f5f",
             "gridcolor": "white",
             "linecolor": "white",
             "minorgridcolor": "white",
             "startlinecolor": "#2a3f5f"
            },
            "baxis": {
             "endlinecolor": "#2a3f5f",
             "gridcolor": "white",
             "linecolor": "white",
             "minorgridcolor": "white",
             "startlinecolor": "#2a3f5f"
            },
            "type": "carpet"
           }
          ],
          "choropleth": [
           {
            "colorbar": {
             "outlinewidth": 0,
             "ticks": ""
            },
            "type": "choropleth"
           }
          ],
          "contour": [
           {
            "colorbar": {
             "outlinewidth": 0,
             "ticks": ""
            },
            "colorscale": [
             [
              0,
              "#0d0887"
             ],
             [
              0.1111111111111111,
              "#46039f"
             ],
             [
              0.2222222222222222,
              "#7201a8"
             ],
             [
              0.3333333333333333,
              "#9c179e"
             ],
             [
              0.4444444444444444,
              "#bd3786"
             ],
             [
              0.5555555555555556,
              "#d8576b"
             ],
             [
              0.6666666666666666,
              "#ed7953"
             ],
             [
              0.7777777777777778,
              "#fb9f3a"
             ],
             [
              0.8888888888888888,
              "#fdca26"
             ],
             [
              1,
              "#f0f921"
             ]
            ],
            "type": "contour"
           }
          ],
          "contourcarpet": [
           {
            "colorbar": {
             "outlinewidth": 0,
             "ticks": ""
            },
            "type": "contourcarpet"
           }
          ],
          "heatmap": [
           {
            "colorbar": {
             "outlinewidth": 0,
             "ticks": ""
            },
            "colorscale": [
             [
              0,
              "#0d0887"
             ],
             [
              0.1111111111111111,
              "#46039f"
             ],
             [
              0.2222222222222222,
              "#7201a8"
             ],
             [
              0.3333333333333333,
              "#9c179e"
             ],
             [
              0.4444444444444444,
              "#bd3786"
             ],
             [
              0.5555555555555556,
              "#d8576b"
             ],
             [
              0.6666666666666666,
              "#ed7953"
             ],
             [
              0.7777777777777778,
              "#fb9f3a"
             ],
             [
              0.8888888888888888,
              "#fdca26"
             ],
             [
              1,
              "#f0f921"
             ]
            ],
            "type": "heatmap"
           }
          ],
          "heatmapgl": [
           {
            "colorbar": {
             "outlinewidth": 0,
             "ticks": ""
            },
            "colorscale": [
             [
              0,
              "#0d0887"
             ],
             [
              0.1111111111111111,
              "#46039f"
             ],
             [
              0.2222222222222222,
              "#7201a8"
             ],
             [
              0.3333333333333333,
              "#9c179e"
             ],
             [
              0.4444444444444444,
              "#bd3786"
             ],
             [
              0.5555555555555556,
              "#d8576b"
             ],
             [
              0.6666666666666666,
              "#ed7953"
             ],
             [
              0.7777777777777778,
              "#fb9f3a"
             ],
             [
              0.8888888888888888,
              "#fdca26"
             ],
             [
              1,
              "#f0f921"
             ]
            ],
            "type": "heatmapgl"
           }
          ],
          "histogram": [
           {
            "marker": {
             "colorbar": {
              "outlinewidth": 0,
              "ticks": ""
             }
            },
            "type": "histogram"
           }
          ],
          "histogram2d": [
           {
            "colorbar": {
             "outlinewidth": 0,
             "ticks": ""
            },
            "colorscale": [
             [
              0,
              "#0d0887"
             ],
             [
              0.1111111111111111,
              "#46039f"
             ],
             [
              0.2222222222222222,
              "#7201a8"
             ],
             [
              0.3333333333333333,
              "#9c179e"
             ],
             [
              0.4444444444444444,
              "#bd3786"
             ],
             [
              0.5555555555555556,
              "#d8576b"
             ],
             [
              0.6666666666666666,
              "#ed7953"
             ],
             [
              0.7777777777777778,
              "#fb9f3a"
             ],
             [
              0.8888888888888888,
              "#fdca26"
             ],
             [
              1,
              "#f0f921"
             ]
            ],
            "type": "histogram2d"
           }
          ],
          "histogram2dcontour": [
           {
            "colorbar": {
             "outlinewidth": 0,
             "ticks": ""
            },
            "colorscale": [
             [
              0,
              "#0d0887"
             ],
             [
              0.1111111111111111,
              "#46039f"
             ],
             [
              0.2222222222222222,
              "#7201a8"
             ],
             [
              0.3333333333333333,
              "#9c179e"
             ],
             [
              0.4444444444444444,
              "#bd3786"
             ],
             [
              0.5555555555555556,
              "#d8576b"
             ],
             [
              0.6666666666666666,
              "#ed7953"
             ],
             [
              0.7777777777777778,
              "#fb9f3a"
             ],
             [
              0.8888888888888888,
              "#fdca26"
             ],
             [
              1,
              "#f0f921"
             ]
            ],
            "type": "histogram2dcontour"
           }
          ],
          "mesh3d": [
           {
            "colorbar": {
             "outlinewidth": 0,
             "ticks": ""
            },
            "type": "mesh3d"
           }
          ],
          "parcoords": [
           {
            "line": {
             "colorbar": {
              "outlinewidth": 0,
              "ticks": ""
             }
            },
            "type": "parcoords"
           }
          ],
          "pie": [
           {
            "automargin": true,
            "type": "pie"
           }
          ],
          "scatter": [
           {
            "marker": {
             "colorbar": {
              "outlinewidth": 0,
              "ticks": ""
             }
            },
            "type": "scatter"
           }
          ],
          "scatter3d": [
           {
            "line": {
             "colorbar": {
              "outlinewidth": 0,
              "ticks": ""
             }
            },
            "marker": {
             "colorbar": {
              "outlinewidth": 0,
              "ticks": ""
             }
            },
            "type": "scatter3d"
           }
          ],
          "scattercarpet": [
           {
            "marker": {
             "colorbar": {
              "outlinewidth": 0,
              "ticks": ""
             }
            },
            "type": "scattercarpet"
           }
          ],
          "scattergeo": [
           {
            "marker": {
             "colorbar": {
              "outlinewidth": 0,
              "ticks": ""
             }
            },
            "type": "scattergeo"
           }
          ],
          "scattergl": [
           {
            "marker": {
             "colorbar": {
              "outlinewidth": 0,
              "ticks": ""
             }
            },
            "type": "scattergl"
           }
          ],
          "scattermapbox": [
           {
            "marker": {
             "colorbar": {
              "outlinewidth": 0,
              "ticks": ""
             }
            },
            "type": "scattermapbox"
           }
          ],
          "scatterpolar": [
           {
            "marker": {
             "colorbar": {
              "outlinewidth": 0,
              "ticks": ""
             }
            },
            "type": "scatterpolar"
           }
          ],
          "scatterpolargl": [
           {
            "marker": {
             "colorbar": {
              "outlinewidth": 0,
              "ticks": ""
             }
            },
            "type": "scatterpolargl"
           }
          ],
          "scatterternary": [
           {
            "marker": {
             "colorbar": {
              "outlinewidth": 0,
              "ticks": ""
             }
            },
            "type": "scatterternary"
           }
          ],
          "surface": [
           {
            "colorbar": {
             "outlinewidth": 0,
             "ticks": ""
            },
            "colorscale": [
             [
              0,
              "#0d0887"
             ],
             [
              0.1111111111111111,
              "#46039f"
             ],
             [
              0.2222222222222222,
              "#7201a8"
             ],
             [
              0.3333333333333333,
              "#9c179e"
             ],
             [
              0.4444444444444444,
              "#bd3786"
             ],
             [
              0.5555555555555556,
              "#d8576b"
             ],
             [
              0.6666666666666666,
              "#ed7953"
             ],
             [
              0.7777777777777778,
              "#fb9f3a"
             ],
             [
              0.8888888888888888,
              "#fdca26"
             ],
             [
              1,
              "#f0f921"
             ]
            ],
            "type": "surface"
           }
          ],
          "table": [
           {
            "cells": {
             "fill": {
              "color": "#EBF0F8"
             },
             "line": {
              "color": "white"
             }
            },
            "header": {
             "fill": {
              "color": "#C8D4E3"
             },
             "line": {
              "color": "white"
             }
            },
            "type": "table"
           }
          ]
         },
         "layout": {
          "annotationdefaults": {
           "arrowcolor": "#2a3f5f",
           "arrowhead": 0,
           "arrowwidth": 1
          },
          "autotypenumbers": "strict",
          "coloraxis": {
           "colorbar": {
            "outlinewidth": 0,
            "ticks": ""
           }
          },
          "colorscale": {
           "diverging": [
            [
             0,
             "#8e0152"
            ],
            [
             0.1,
             "#c51b7d"
            ],
            [
             0.2,
             "#de77ae"
            ],
            [
             0.3,
             "#f1b6da"
            ],
            [
             0.4,
             "#fde0ef"
            ],
            [
             0.5,
             "#f7f7f7"
            ],
            [
             0.6,
             "#e6f5d0"
            ],
            [
             0.7,
             "#b8e186"
            ],
            [
             0.8,
             "#7fbc41"
            ],
            [
             0.9,
             "#4d9221"
            ],
            [
             1,
             "#276419"
            ]
           ],
           "sequential": [
            [
             0,
             "#0d0887"
            ],
            [
             0.1111111111111111,
             "#46039f"
            ],
            [
             0.2222222222222222,
             "#7201a8"
            ],
            [
             0.3333333333333333,
             "#9c179e"
            ],
            [
             0.4444444444444444,
             "#bd3786"
            ],
            [
             0.5555555555555556,
             "#d8576b"
            ],
            [
             0.6666666666666666,
             "#ed7953"
            ],
            [
             0.7777777777777778,
             "#fb9f3a"
            ],
            [
             0.8888888888888888,
             "#fdca26"
            ],
            [
             1,
             "#f0f921"
            ]
           ],
           "sequentialminus": [
            [
             0,
             "#0d0887"
            ],
            [
             0.1111111111111111,
             "#46039f"
            ],
            [
             0.2222222222222222,
             "#7201a8"
            ],
            [
             0.3333333333333333,
             "#9c179e"
            ],
            [
             0.4444444444444444,
             "#bd3786"
            ],
            [
             0.5555555555555556,
             "#d8576b"
            ],
            [
             0.6666666666666666,
             "#ed7953"
            ],
            [
             0.7777777777777778,
             "#fb9f3a"
            ],
            [
             0.8888888888888888,
             "#fdca26"
            ],
            [
             1,
             "#f0f921"
            ]
           ]
          },
          "colorway": [
           "#636efa",
           "#EF553B",
           "#00cc96",
           "#ab63fa",
           "#FFA15A",
           "#19d3f3",
           "#FF6692",
           "#B6E880",
           "#FF97FF",
           "#FECB52"
          ],
          "font": {
           "color": "#2a3f5f"
          },
          "geo": {
           "bgcolor": "white",
           "lakecolor": "white",
           "landcolor": "#E5ECF6",
           "showlakes": true,
           "showland": true,
           "subunitcolor": "white"
          },
          "hoverlabel": {
           "align": "left"
          },
          "hovermode": "closest",
          "mapbox": {
           "style": "light"
          },
          "paper_bgcolor": "white",
          "plot_bgcolor": "#E5ECF6",
          "polar": {
           "angularaxis": {
            "gridcolor": "white",
            "linecolor": "white",
            "ticks": ""
           },
           "bgcolor": "#E5ECF6",
           "radialaxis": {
            "gridcolor": "white",
            "linecolor": "white",
            "ticks": ""
           }
          },
          "scene": {
           "xaxis": {
            "backgroundcolor": "#E5ECF6",
            "gridcolor": "white",
            "gridwidth": 2,
            "linecolor": "white",
            "showbackground": true,
            "ticks": "",
            "zerolinecolor": "white"
           },
           "yaxis": {
            "backgroundcolor": "#E5ECF6",
            "gridcolor": "white",
            "gridwidth": 2,
            "linecolor": "white",
            "showbackground": true,
            "ticks": "",
            "zerolinecolor": "white"
           },
           "zaxis": {
            "backgroundcolor": "#E5ECF6",
            "gridcolor": "white",
            "gridwidth": 2,
            "linecolor": "white",
            "showbackground": true,
            "ticks": "",
            "zerolinecolor": "white"
           }
          },
          "shapedefaults": {
           "line": {
            "color": "#2a3f5f"
           }
          },
          "ternary": {
           "aaxis": {
            "gridcolor": "white",
            "linecolor": "white",
            "ticks": ""
           },
           "baxis": {
            "gridcolor": "white",
            "linecolor": "white",
            "ticks": ""
           },
           "bgcolor": "#E5ECF6",
           "caxis": {
            "gridcolor": "white",
            "linecolor": "white",
            "ticks": ""
           }
          },
          "title": {
           "x": 0.05
          },
          "xaxis": {
           "automargin": true,
           "gridcolor": "white",
           "linecolor": "white",
           "ticks": "",
           "title": {
            "standoff": 15
           },
           "zerolinecolor": "white",
           "zerolinewidth": 2
          },
          "yaxis": {
           "automargin": true,
           "gridcolor": "white",
           "linecolor": "white",
           "ticks": "",
           "title": {
            "standoff": 15
           },
           "zerolinecolor": "white",
           "zerolinewidth": 2
          }
         }
        }
       }
      }
     },
     "metadata": {}
    }
   ],
   "source": [
    "fig = px.scatter_mapbox(e2_res,lat = 'lat',lon = 'lon',hover_name = 'sgg_nm',mapbox_style = 'open-street-map')\n",
    "fig.update_layout(margin={\"r\":0,\"t\":0,\"l\":0,\"b\":0})\n",
    "fig.show()\n"
   ]
  },
  {
   "cell_type": "code",
   "execution_count": 87,
   "metadata": {},
   "outputs": [
    {
     "output_type": "execute_result",
     "data": {
      "text/plain": [
       "    sgg_nm         x_utmk        y_utmk                    geometry  \\\n",
       "6  성남시 분당구  965511.145347  1.930914e+06  POINT (127.11045 37.37666)   \n",
       "6  성남시 분당구  965460.152946  1.931627e+06  POINT (127.10984 37.38309)   \n",
       "6  성남시 분당구  964836.908758  1.930730e+06  POINT (127.10284 37.37498)   \n",
       "6  성남시 분당구  965551.209757  1.931517e+06  POINT (127.11088 37.38210)   \n",
       "4  성남시 수정구  965362.434741  1.937788e+06  POINT (127.10845 37.43861)   \n",
       "4  성남시 수정구  965248.132604  1.936983e+06  POINT (127.10720 37.43135)   \n",
       "4  성남시 수정구  965467.141298  1.937677e+06  POINT (127.10964 37.43762)   \n",
       "4  성남시 수정구  965436.509459  1.937047e+06  POINT (127.10932 37.43194)   \n",
       "5  성남시 중원구  970682.951595  1.937670e+06  POINT (127.16860 37.43773)   \n",
       "5  성남시 중원구  970713.094275  1.936848e+06  POINT (127.16897 37.43033)   \n",
       "5  성남시 중원구  969943.661938  1.936740e+06  POINT (127.16028 37.42933)   \n",
       "5  성남시 중원구  970736.860637  1.936726e+06  POINT (127.16924 37.42923)   \n",
       "1  수원시 권선구  953437.796272  1.918515e+06  POINT (126.97487 37.26438)   \n",
       "1  수원시 권선구  954320.651810  1.917655e+06  POINT (126.98488 37.25666)   \n",
       "1  수원시 권선구  954217.448851  1.918350e+06  POINT (126.98367 37.26292)   \n",
       "1  수원시 권선구  954307.795818  1.918575e+06  POINT (126.98467 37.26495)   \n",
       "3  수원시 영통구  961103.521623  1.920126e+06  POINT (127.06123 37.27924)   \n",
       "3  수원시 영통구  961116.686380  1.919168e+06  POINT (127.06143 37.27061)   \n",
       "3  수원시 영통구  960448.621290  1.919370e+06  POINT (127.05389 37.27240)   \n",
       "3  수원시 영통구  960370.897178  1.919270e+06  POINT (127.05302 37.27150)   \n",
       "2  수원시 팔달구  956732.620984  1.920411e+06  POINT (127.01191 37.28162)   \n",
       "2  수원시 팔달구  957586.013878  1.920267e+06  POINT (127.02155 37.28036)   \n",
       "2  수원시 팔달구  956850.990072  1.919471e+06  POINT (127.01330 37.27316)   \n",
       "2  수원시 팔달구  957537.959976  1.919620e+06  POINT (127.02104 37.27453)   \n",
       "9   안양시동안구  952090.425895  1.933261e+06  POINT (126.95872 37.39722)   \n",
       "9   안양시동안구  951362.486332  1.933335e+06  POINT (126.95049 37.39785)   \n",
       "9   안양시동안구  952078.822611  1.933364e+06  POINT (126.95858 37.39814)   \n",
       "9   안양시동안구  952168.294842  1.933263e+06  POINT (126.95960 37.39724)   \n",
       "8   안양시만안구  947445.512891  1.933663e+06  POINT (126.90621 37.40059)   \n",
       "8   안양시만안구  948216.852497  1.933666e+06  POINT (126.91493 37.40066)   \n",
       "8   안양시만안구  948243.023823  1.933652e+06  POINT (126.91523 37.40053)   \n",
       "8   안양시만안구  947545.507842  1.933631e+06  POINT (126.90735 37.40030)   \n",
       "7     의정부시  962364.102786  1.971104e+06  POINT (127.07284 37.73879)   \n",
       "7     의정부시  961532.542507  1.971107e+06  POINT (127.06341 37.73877)   \n",
       "7     의정부시  962292.703799  1.970499e+06  POINT (127.07206 37.73333)   \n",
       "7     의정부시  961577.556194  1.970370e+06  POINT (127.06396 37.73213)   \n",
       "\n",
       "          lon        lat  \n",
       "6  127.110451  37.376657  \n",
       "6  127.109842  37.383087  \n",
       "6  127.102845  37.374978  \n",
       "6  127.110876  37.382097  \n",
       "4  127.108449  37.438614  \n",
       "4  127.107195  37.431351  \n",
       "4  127.109638  37.437620  \n",
       "4  127.109321  37.431941  \n",
       "5  127.168597  37.437732  \n",
       "5  127.168971  37.430330  \n",
       "5  127.160278  37.429327  \n",
       "5  127.169244  37.429229  \n",
       "1  126.974867  37.264377  \n",
       "1  126.984876  37.256661  \n",
       "1  126.983670  37.262922  \n",
       "1  126.984675  37.264953  \n",
       "3  127.061235  37.279242  \n",
       "3  127.061433  37.270614  \n",
       "3  127.053888  37.272402  \n",
       "3  127.053016  37.271495  \n",
       "2  127.011914  37.281623  \n",
       "2  127.021549  37.280361  \n",
       "2  127.013304  37.273159  \n",
       "2  127.021044  37.274532  \n",
       "9  126.958719  37.397216  \n",
       "9  126.950490  37.397850  \n",
       "9  126.958581  37.398143  \n",
       "9  126.959598  37.397237  \n",
       "8  126.906215  37.400587  \n",
       "8  126.914929  37.400656  \n",
       "8  126.915226  37.400532  \n",
       "8  126.907347  37.400304  \n",
       "7  127.072844  37.738787  \n",
       "7  127.063406  37.738775  \n",
       "7  127.072065  37.733331  \n",
       "7  127.063956  37.732131  "
      ],
      "text/html": "<div>\n<style scoped>\n    .dataframe tbody tr th:only-of-type {\n        vertical-align: middle;\n    }\n\n    .dataframe tbody tr th {\n        vertical-align: top;\n    }\n\n    .dataframe thead th {\n        text-align: right;\n    }\n</style>\n<table border=\"1\" class=\"dataframe\">\n  <thead>\n    <tr style=\"text-align: right;\">\n      <th></th>\n      <th>sgg_nm</th>\n      <th>x_utmk</th>\n      <th>y_utmk</th>\n      <th>geometry</th>\n      <th>lon</th>\n      <th>lat</th>\n    </tr>\n  </thead>\n  <tbody>\n    <tr>\n      <th>6</th>\n      <td>성남시 분당구</td>\n      <td>965511.145347</td>\n      <td>1.930914e+06</td>\n      <td>POINT (127.11045 37.37666)</td>\n      <td>127.110451</td>\n      <td>37.376657</td>\n    </tr>\n    <tr>\n      <th>6</th>\n      <td>성남시 분당구</td>\n      <td>965460.152946</td>\n      <td>1.931627e+06</td>\n      <td>POINT (127.10984 37.38309)</td>\n      <td>127.109842</td>\n      <td>37.383087</td>\n    </tr>\n    <tr>\n      <th>6</th>\n      <td>성남시 분당구</td>\n      <td>964836.908758</td>\n      <td>1.930730e+06</td>\n      <td>POINT (127.10284 37.37498)</td>\n      <td>127.102845</td>\n      <td>37.374978</td>\n    </tr>\n    <tr>\n      <th>6</th>\n      <td>성남시 분당구</td>\n      <td>965551.209757</td>\n      <td>1.931517e+06</td>\n      <td>POINT (127.11088 37.38210)</td>\n      <td>127.110876</td>\n      <td>37.382097</td>\n    </tr>\n    <tr>\n      <th>4</th>\n      <td>성남시 수정구</td>\n      <td>965362.434741</td>\n      <td>1.937788e+06</td>\n      <td>POINT (127.10845 37.43861)</td>\n      <td>127.108449</td>\n      <td>37.438614</td>\n    </tr>\n    <tr>\n      <th>4</th>\n      <td>성남시 수정구</td>\n      <td>965248.132604</td>\n      <td>1.936983e+06</td>\n      <td>POINT (127.10720 37.43135)</td>\n      <td>127.107195</td>\n      <td>37.431351</td>\n    </tr>\n    <tr>\n      <th>4</th>\n      <td>성남시 수정구</td>\n      <td>965467.141298</td>\n      <td>1.937677e+06</td>\n      <td>POINT (127.10964 37.43762)</td>\n      <td>127.109638</td>\n      <td>37.437620</td>\n    </tr>\n    <tr>\n      <th>4</th>\n      <td>성남시 수정구</td>\n      <td>965436.509459</td>\n      <td>1.937047e+06</td>\n      <td>POINT (127.10932 37.43194)</td>\n      <td>127.109321</td>\n      <td>37.431941</td>\n    </tr>\n    <tr>\n      <th>5</th>\n      <td>성남시 중원구</td>\n      <td>970682.951595</td>\n      <td>1.937670e+06</td>\n      <td>POINT (127.16860 37.43773)</td>\n      <td>127.168597</td>\n      <td>37.437732</td>\n    </tr>\n    <tr>\n      <th>5</th>\n      <td>성남시 중원구</td>\n      <td>970713.094275</td>\n      <td>1.936848e+06</td>\n      <td>POINT (127.16897 37.43033)</td>\n      <td>127.168971</td>\n      <td>37.430330</td>\n    </tr>\n    <tr>\n      <th>5</th>\n      <td>성남시 중원구</td>\n      <td>969943.661938</td>\n      <td>1.936740e+06</td>\n      <td>POINT (127.16028 37.42933)</td>\n      <td>127.160278</td>\n      <td>37.429327</td>\n    </tr>\n    <tr>\n      <th>5</th>\n      <td>성남시 중원구</td>\n      <td>970736.860637</td>\n      <td>1.936726e+06</td>\n      <td>POINT (127.16924 37.42923)</td>\n      <td>127.169244</td>\n      <td>37.429229</td>\n    </tr>\n    <tr>\n      <th>1</th>\n      <td>수원시 권선구</td>\n      <td>953437.796272</td>\n      <td>1.918515e+06</td>\n      <td>POINT (126.97487 37.26438)</td>\n      <td>126.974867</td>\n      <td>37.264377</td>\n    </tr>\n    <tr>\n      <th>1</th>\n      <td>수원시 권선구</td>\n      <td>954320.651810</td>\n      <td>1.917655e+06</td>\n      <td>POINT (126.98488 37.25666)</td>\n      <td>126.984876</td>\n      <td>37.256661</td>\n    </tr>\n    <tr>\n      <th>1</th>\n      <td>수원시 권선구</td>\n      <td>954217.448851</td>\n      <td>1.918350e+06</td>\n      <td>POINT (126.98367 37.26292)</td>\n      <td>126.983670</td>\n      <td>37.262922</td>\n    </tr>\n    <tr>\n      <th>1</th>\n      <td>수원시 권선구</td>\n      <td>954307.795818</td>\n      <td>1.918575e+06</td>\n      <td>POINT (126.98467 37.26495)</td>\n      <td>126.984675</td>\n      <td>37.264953</td>\n    </tr>\n    <tr>\n      <th>3</th>\n      <td>수원시 영통구</td>\n      <td>961103.521623</td>\n      <td>1.920126e+06</td>\n      <td>POINT (127.06123 37.27924)</td>\n      <td>127.061235</td>\n      <td>37.279242</td>\n    </tr>\n    <tr>\n      <th>3</th>\n      <td>수원시 영통구</td>\n      <td>961116.686380</td>\n      <td>1.919168e+06</td>\n      <td>POINT (127.06143 37.27061)</td>\n      <td>127.061433</td>\n      <td>37.270614</td>\n    </tr>\n    <tr>\n      <th>3</th>\n      <td>수원시 영통구</td>\n      <td>960448.621290</td>\n      <td>1.919370e+06</td>\n      <td>POINT (127.05389 37.27240)</td>\n      <td>127.053888</td>\n      <td>37.272402</td>\n    </tr>\n    <tr>\n      <th>3</th>\n      <td>수원시 영통구</td>\n      <td>960370.897178</td>\n      <td>1.919270e+06</td>\n      <td>POINT (127.05302 37.27150)</td>\n      <td>127.053016</td>\n      <td>37.271495</td>\n    </tr>\n    <tr>\n      <th>2</th>\n      <td>수원시 팔달구</td>\n      <td>956732.620984</td>\n      <td>1.920411e+06</td>\n      <td>POINT (127.01191 37.28162)</td>\n      <td>127.011914</td>\n      <td>37.281623</td>\n    </tr>\n    <tr>\n      <th>2</th>\n      <td>수원시 팔달구</td>\n      <td>957586.013878</td>\n      <td>1.920267e+06</td>\n      <td>POINT (127.02155 37.28036)</td>\n      <td>127.021549</td>\n      <td>37.280361</td>\n    </tr>\n    <tr>\n      <th>2</th>\n      <td>수원시 팔달구</td>\n      <td>956850.990072</td>\n      <td>1.919471e+06</td>\n      <td>POINT (127.01330 37.27316)</td>\n      <td>127.013304</td>\n      <td>37.273159</td>\n    </tr>\n    <tr>\n      <th>2</th>\n      <td>수원시 팔달구</td>\n      <td>957537.959976</td>\n      <td>1.919620e+06</td>\n      <td>POINT (127.02104 37.27453)</td>\n      <td>127.021044</td>\n      <td>37.274532</td>\n    </tr>\n    <tr>\n      <th>9</th>\n      <td>안양시동안구</td>\n      <td>952090.425895</td>\n      <td>1.933261e+06</td>\n      <td>POINT (126.95872 37.39722)</td>\n      <td>126.958719</td>\n      <td>37.397216</td>\n    </tr>\n    <tr>\n      <th>9</th>\n      <td>안양시동안구</td>\n      <td>951362.486332</td>\n      <td>1.933335e+06</td>\n      <td>POINT (126.95049 37.39785)</td>\n      <td>126.950490</td>\n      <td>37.397850</td>\n    </tr>\n    <tr>\n      <th>9</th>\n      <td>안양시동안구</td>\n      <td>952078.822611</td>\n      <td>1.933364e+06</td>\n      <td>POINT (126.95858 37.39814)</td>\n      <td>126.958581</td>\n      <td>37.398143</td>\n    </tr>\n    <tr>\n      <th>9</th>\n      <td>안양시동안구</td>\n      <td>952168.294842</td>\n      <td>1.933263e+06</td>\n      <td>POINT (126.95960 37.39724)</td>\n      <td>126.959598</td>\n      <td>37.397237</td>\n    </tr>\n    <tr>\n      <th>8</th>\n      <td>안양시만안구</td>\n      <td>947445.512891</td>\n      <td>1.933663e+06</td>\n      <td>POINT (126.90621 37.40059)</td>\n      <td>126.906215</td>\n      <td>37.400587</td>\n    </tr>\n    <tr>\n      <th>8</th>\n      <td>안양시만안구</td>\n      <td>948216.852497</td>\n      <td>1.933666e+06</td>\n      <td>POINT (126.91493 37.40066)</td>\n      <td>126.914929</td>\n      <td>37.400656</td>\n    </tr>\n    <tr>\n      <th>8</th>\n      <td>안양시만안구</td>\n      <td>948243.023823</td>\n      <td>1.933652e+06</td>\n      <td>POINT (126.91523 37.40053)</td>\n      <td>126.915226</td>\n      <td>37.400532</td>\n    </tr>\n    <tr>\n      <th>8</th>\n      <td>안양시만안구</td>\n      <td>947545.507842</td>\n      <td>1.933631e+06</td>\n      <td>POINT (126.90735 37.40030)</td>\n      <td>126.907347</td>\n      <td>37.400304</td>\n    </tr>\n    <tr>\n      <th>7</th>\n      <td>의정부시</td>\n      <td>962364.102786</td>\n      <td>1.971104e+06</td>\n      <td>POINT (127.07284 37.73879)</td>\n      <td>127.072844</td>\n      <td>37.738787</td>\n    </tr>\n    <tr>\n      <th>7</th>\n      <td>의정부시</td>\n      <td>961532.542507</td>\n      <td>1.971107e+06</td>\n      <td>POINT (127.06341 37.73877)</td>\n      <td>127.063406</td>\n      <td>37.738775</td>\n    </tr>\n    <tr>\n      <th>7</th>\n      <td>의정부시</td>\n      <td>962292.703799</td>\n      <td>1.970499e+06</td>\n      <td>POINT (127.07206 37.73333)</td>\n      <td>127.072065</td>\n      <td>37.733331</td>\n    </tr>\n    <tr>\n      <th>7</th>\n      <td>의정부시</td>\n      <td>961577.556194</td>\n      <td>1.970370e+06</td>\n      <td>POINT (127.06396 37.73213)</td>\n      <td>127.063956</td>\n      <td>37.732131</td>\n    </tr>\n  </tbody>\n</table>\n</div>"
     },
     "metadata": {},
     "execution_count": 87
    }
   ],
   "source": [
    "e2_res.sort_values(by=['sgg_nm'])"
   ]
  },
  {
   "cell_type": "code",
   "execution_count": 89,
   "metadata": {},
   "outputs": [
    {
     "output_type": "execute_result",
     "data": {
      "text/plain": [
       "   sgg_cd   sgg_nm                         ptr_wkt         lon        lat  \\\n",
       "6   41135  성남시 분당구  POINT (965123.927 1931208.643)  127.106064  37.379302   \n",
       "6   41135  성남시 분당구  POINT (965123.927 1931208.643)  127.106064  37.379302   \n",
       "6   41135  성남시 분당구  POINT (965123.927 1931208.643)  127.106064  37.379302   \n",
       "6   41135  성남시 분당구  POINT (965123.927 1931208.643)  127.106064  37.379302   \n",
       "4   41131  성남시 수정구  POINT (964980.062 1937407.071)  127.104145  37.435166   \n",
       "4   41131  성남시 수정구  POINT (964980.062 1937407.071)  127.104145  37.435166   \n",
       "4   41131  성남시 수정구  POINT (964980.062 1937407.071)  127.104145  37.435166   \n",
       "4   41131  성남시 수정구  POINT (964980.062 1937407.071)  127.104145  37.435166   \n",
       "5   41133  성남시 중원구  POINT (970266.576 1937194.278)  127.163910  37.433433   \n",
       "5   41133  성남시 중원구  POINT (970266.576 1937194.278)  127.163910  37.433433   \n",
       "5   41133  성남시 중원구  POINT (970266.576 1937194.278)  127.163910  37.433433   \n",
       "5   41133  성남시 중원구  POINT (970266.576 1937194.278)  127.163910  37.433433   \n",
       "1   41113  수원시 권선구  POINT (953869.178 1918085.646)  126.979758  37.260525   \n",
       "1   41113  수원시 권선구  POINT (953869.178 1918085.646)  126.979758  37.260525   \n",
       "1   41113  수원시 권선구  POINT (953869.178 1918085.646)  126.979758  37.260525   \n",
       "1   41113  수원시 권선구  POINT (953869.178 1918085.646)  126.979758  37.260525   \n",
       "3   41117  수원시 영통구  POINT (960701.831 1919658.881)  127.056728  37.275019   \n",
       "3   41117  수원시 영통구  POINT (960701.831 1919658.881)  127.056728  37.275019   \n",
       "3   41117  수원시 영통구  POINT (960701.831 1919658.881)  127.056728  37.275019   \n",
       "3   41117  수원시 영통구  POINT (960701.831 1919658.881)  127.056728  37.275019   \n",
       "2   41115  수원시 팔달구  POINT (957113.589 1919947.673)  127.016239  37.277464   \n",
       "2   41115  수원시 팔달구  POINT (957113.589 1919947.673)  127.016239  37.277464   \n",
       "2   41115  수원시 팔달구  POINT (957113.589 1919947.673)  127.016239  37.277464   \n",
       "2   41115  수원시 팔달구  POINT (957113.589 1919947.673)  127.016239  37.277464   \n",
       "9   41173   안양시동안구  POINT (951807.794 1933614.710)  126.955503  37.400392   \n",
       "9   41173   안양시동안구  POINT (951807.794 1933614.710)  126.955503  37.400392   \n",
       "9   41173   안양시동안구  POINT (951807.794 1933614.710)  126.955503  37.400392   \n",
       "9   41173   안양시동안구  POINT (951807.794 1933614.710)  126.955503  37.400392   \n",
       "8   41171   안양시만안구  POINT (947905.642 1934053.266)  126.911386  37.404133   \n",
       "8   41171   안양시만안구  POINT (947905.642 1934053.266)  126.911386  37.404133   \n",
       "8   41171   안양시만안구  POINT (947905.642 1934053.266)  126.911386  37.404133   \n",
       "8   41171   안양시만안구  POINT (947905.642 1934053.266)  126.911386  37.404133   \n",
       "7   41150     의정부시  POINT (961973.274 1970818.278)  127.068423  37.736192   \n",
       "7   41150     의정부시  POINT (961973.274 1970818.278)  127.068423  37.736192   \n",
       "7   41150     의정부시  POINT (961973.274 1970818.278)  127.068423  37.736192   \n",
       "7   41150     의정부시  POINT (961973.274 1970818.278)  127.068423  37.736192   \n",
       "\n",
       "   grp_rn         x_utmk        y_utmk  \n",
       "6       1  965511.145347  1.930914e+06  \n",
       "6       4  965460.152946  1.931627e+06  \n",
       "6       2  964836.908758  1.930730e+06  \n",
       "6       3  965551.209757  1.931517e+06  \n",
       "4       2  965362.434741  1.937788e+06  \n",
       "4       3  965248.132604  1.936983e+06  \n",
       "4       1  965467.141298  1.937677e+06  \n",
       "4       4  965436.509459  1.937047e+06  \n",
       "5       3  970682.951595  1.937670e+06  \n",
       "5       1  970713.094275  1.936848e+06  \n",
       "5       4  969943.661938  1.936740e+06  \n",
       "5       2  970736.860637  1.936726e+06  \n",
       "1       3  953437.796272  1.918515e+06  \n",
       "1       4  954320.651810  1.917655e+06  \n",
       "1       1  954217.448851  1.918350e+06  \n",
       "1       2  954307.795818  1.918575e+06  \n",
       "3       4  961103.521623  1.920126e+06  \n",
       "3       3  961116.686380  1.919168e+06  \n",
       "3       1  960448.621290  1.919370e+06  \n",
       "3       2  960370.897178  1.919270e+06  \n",
       "2       4  956732.620984  1.920411e+06  \n",
       "2       2  957586.013878  1.920267e+06  \n",
       "2       3  956850.990072  1.919471e+06  \n",
       "2       1  957537.959976  1.919620e+06  \n",
       "9       3  952090.425895  1.933261e+06  \n",
       "9       2  951362.486332  1.933335e+06  \n",
       "9       1  952078.822611  1.933364e+06  \n",
       "9       4  952168.294842  1.933263e+06  \n",
       "8       4  947445.512891  1.933663e+06  \n",
       "8       2  948216.852497  1.933666e+06  \n",
       "8       1  948243.023823  1.933652e+06  \n",
       "8       3  947545.507842  1.933631e+06  \n",
       "7       3  962364.102786  1.971104e+06  \n",
       "7       2  961532.542507  1.971107e+06  \n",
       "7       1  962292.703799  1.970499e+06  \n",
       "7       4  961577.556194  1.970370e+06  "
      ],
      "text/html": "<div>\n<style scoped>\n    .dataframe tbody tr th:only-of-type {\n        vertical-align: middle;\n    }\n\n    .dataframe tbody tr th {\n        vertical-align: top;\n    }\n\n    .dataframe thead th {\n        text-align: right;\n    }\n</style>\n<table border=\"1\" class=\"dataframe\">\n  <thead>\n    <tr style=\"text-align: right;\">\n      <th></th>\n      <th>sgg_cd</th>\n      <th>sgg_nm</th>\n      <th>ptr_wkt</th>\n      <th>lon</th>\n      <th>lat</th>\n      <th>grp_rn</th>\n      <th>x_utmk</th>\n      <th>y_utmk</th>\n    </tr>\n  </thead>\n  <tbody>\n    <tr>\n      <th>6</th>\n      <td>41135</td>\n      <td>성남시 분당구</td>\n      <td>POINT (965123.927 1931208.643)</td>\n      <td>127.106064</td>\n      <td>37.379302</td>\n      <td>1</td>\n      <td>965511.145347</td>\n      <td>1.930914e+06</td>\n    </tr>\n    <tr>\n      <th>6</th>\n      <td>41135</td>\n      <td>성남시 분당구</td>\n      <td>POINT (965123.927 1931208.643)</td>\n      <td>127.106064</td>\n      <td>37.379302</td>\n      <td>4</td>\n      <td>965460.152946</td>\n      <td>1.931627e+06</td>\n    </tr>\n    <tr>\n      <th>6</th>\n      <td>41135</td>\n      <td>성남시 분당구</td>\n      <td>POINT (965123.927 1931208.643)</td>\n      <td>127.106064</td>\n      <td>37.379302</td>\n      <td>2</td>\n      <td>964836.908758</td>\n      <td>1.930730e+06</td>\n    </tr>\n    <tr>\n      <th>6</th>\n      <td>41135</td>\n      <td>성남시 분당구</td>\n      <td>POINT (965123.927 1931208.643)</td>\n      <td>127.106064</td>\n      <td>37.379302</td>\n      <td>3</td>\n      <td>965551.209757</td>\n      <td>1.931517e+06</td>\n    </tr>\n    <tr>\n      <th>4</th>\n      <td>41131</td>\n      <td>성남시 수정구</td>\n      <td>POINT (964980.062 1937407.071)</td>\n      <td>127.104145</td>\n      <td>37.435166</td>\n      <td>2</td>\n      <td>965362.434741</td>\n      <td>1.937788e+06</td>\n    </tr>\n    <tr>\n      <th>4</th>\n      <td>41131</td>\n      <td>성남시 수정구</td>\n      <td>POINT (964980.062 1937407.071)</td>\n      <td>127.104145</td>\n      <td>37.435166</td>\n      <td>3</td>\n      <td>965248.132604</td>\n      <td>1.936983e+06</td>\n    </tr>\n    <tr>\n      <th>4</th>\n      <td>41131</td>\n      <td>성남시 수정구</td>\n      <td>POINT (964980.062 1937407.071)</td>\n      <td>127.104145</td>\n      <td>37.435166</td>\n      <td>1</td>\n      <td>965467.141298</td>\n      <td>1.937677e+06</td>\n    </tr>\n    <tr>\n      <th>4</th>\n      <td>41131</td>\n      <td>성남시 수정구</td>\n      <td>POINT (964980.062 1937407.071)</td>\n      <td>127.104145</td>\n      <td>37.435166</td>\n      <td>4</td>\n      <td>965436.509459</td>\n      <td>1.937047e+06</td>\n    </tr>\n    <tr>\n      <th>5</th>\n      <td>41133</td>\n      <td>성남시 중원구</td>\n      <td>POINT (970266.576 1937194.278)</td>\n      <td>127.163910</td>\n      <td>37.433433</td>\n      <td>3</td>\n      <td>970682.951595</td>\n      <td>1.937670e+06</td>\n    </tr>\n    <tr>\n      <th>5</th>\n      <td>41133</td>\n      <td>성남시 중원구</td>\n      <td>POINT (970266.576 1937194.278)</td>\n      <td>127.163910</td>\n      <td>37.433433</td>\n      <td>1</td>\n      <td>970713.094275</td>\n      <td>1.936848e+06</td>\n    </tr>\n    <tr>\n      <th>5</th>\n      <td>41133</td>\n      <td>성남시 중원구</td>\n      <td>POINT (970266.576 1937194.278)</td>\n      <td>127.163910</td>\n      <td>37.433433</td>\n      <td>4</td>\n      <td>969943.661938</td>\n      <td>1.936740e+06</td>\n    </tr>\n    <tr>\n      <th>5</th>\n      <td>41133</td>\n      <td>성남시 중원구</td>\n      <td>POINT (970266.576 1937194.278)</td>\n      <td>127.163910</td>\n      <td>37.433433</td>\n      <td>2</td>\n      <td>970736.860637</td>\n      <td>1.936726e+06</td>\n    </tr>\n    <tr>\n      <th>1</th>\n      <td>41113</td>\n      <td>수원시 권선구</td>\n      <td>POINT (953869.178 1918085.646)</td>\n      <td>126.979758</td>\n      <td>37.260525</td>\n      <td>3</td>\n      <td>953437.796272</td>\n      <td>1.918515e+06</td>\n    </tr>\n    <tr>\n      <th>1</th>\n      <td>41113</td>\n      <td>수원시 권선구</td>\n      <td>POINT (953869.178 1918085.646)</td>\n      <td>126.979758</td>\n      <td>37.260525</td>\n      <td>4</td>\n      <td>954320.651810</td>\n      <td>1.917655e+06</td>\n    </tr>\n    <tr>\n      <th>1</th>\n      <td>41113</td>\n      <td>수원시 권선구</td>\n      <td>POINT (953869.178 1918085.646)</td>\n      <td>126.979758</td>\n      <td>37.260525</td>\n      <td>1</td>\n      <td>954217.448851</td>\n      <td>1.918350e+06</td>\n    </tr>\n    <tr>\n      <th>1</th>\n      <td>41113</td>\n      <td>수원시 권선구</td>\n      <td>POINT (953869.178 1918085.646)</td>\n      <td>126.979758</td>\n      <td>37.260525</td>\n      <td>2</td>\n      <td>954307.795818</td>\n      <td>1.918575e+06</td>\n    </tr>\n    <tr>\n      <th>3</th>\n      <td>41117</td>\n      <td>수원시 영통구</td>\n      <td>POINT (960701.831 1919658.881)</td>\n      <td>127.056728</td>\n      <td>37.275019</td>\n      <td>4</td>\n      <td>961103.521623</td>\n      <td>1.920126e+06</td>\n    </tr>\n    <tr>\n      <th>3</th>\n      <td>41117</td>\n      <td>수원시 영통구</td>\n      <td>POINT (960701.831 1919658.881)</td>\n      <td>127.056728</td>\n      <td>37.275019</td>\n      <td>3</td>\n      <td>961116.686380</td>\n      <td>1.919168e+06</td>\n    </tr>\n    <tr>\n      <th>3</th>\n      <td>41117</td>\n      <td>수원시 영통구</td>\n      <td>POINT (960701.831 1919658.881)</td>\n      <td>127.056728</td>\n      <td>37.275019</td>\n      <td>1</td>\n      <td>960448.621290</td>\n      <td>1.919370e+06</td>\n    </tr>\n    <tr>\n      <th>3</th>\n      <td>41117</td>\n      <td>수원시 영통구</td>\n      <td>POINT (960701.831 1919658.881)</td>\n      <td>127.056728</td>\n      <td>37.275019</td>\n      <td>2</td>\n      <td>960370.897178</td>\n      <td>1.919270e+06</td>\n    </tr>\n    <tr>\n      <th>2</th>\n      <td>41115</td>\n      <td>수원시 팔달구</td>\n      <td>POINT (957113.589 1919947.673)</td>\n      <td>127.016239</td>\n      <td>37.277464</td>\n      <td>4</td>\n      <td>956732.620984</td>\n      <td>1.920411e+06</td>\n    </tr>\n    <tr>\n      <th>2</th>\n      <td>41115</td>\n      <td>수원시 팔달구</td>\n      <td>POINT (957113.589 1919947.673)</td>\n      <td>127.016239</td>\n      <td>37.277464</td>\n      <td>2</td>\n      <td>957586.013878</td>\n      <td>1.920267e+06</td>\n    </tr>\n    <tr>\n      <th>2</th>\n      <td>41115</td>\n      <td>수원시 팔달구</td>\n      <td>POINT (957113.589 1919947.673)</td>\n      <td>127.016239</td>\n      <td>37.277464</td>\n      <td>3</td>\n      <td>956850.990072</td>\n      <td>1.919471e+06</td>\n    </tr>\n    <tr>\n      <th>2</th>\n      <td>41115</td>\n      <td>수원시 팔달구</td>\n      <td>POINT (957113.589 1919947.673)</td>\n      <td>127.016239</td>\n      <td>37.277464</td>\n      <td>1</td>\n      <td>957537.959976</td>\n      <td>1.919620e+06</td>\n    </tr>\n    <tr>\n      <th>9</th>\n      <td>41173</td>\n      <td>안양시동안구</td>\n      <td>POINT (951807.794 1933614.710)</td>\n      <td>126.955503</td>\n      <td>37.400392</td>\n      <td>3</td>\n      <td>952090.425895</td>\n      <td>1.933261e+06</td>\n    </tr>\n    <tr>\n      <th>9</th>\n      <td>41173</td>\n      <td>안양시동안구</td>\n      <td>POINT (951807.794 1933614.710)</td>\n      <td>126.955503</td>\n      <td>37.400392</td>\n      <td>2</td>\n      <td>951362.486332</td>\n      <td>1.933335e+06</td>\n    </tr>\n    <tr>\n      <th>9</th>\n      <td>41173</td>\n      <td>안양시동안구</td>\n      <td>POINT (951807.794 1933614.710)</td>\n      <td>126.955503</td>\n      <td>37.400392</td>\n      <td>1</td>\n      <td>952078.822611</td>\n      <td>1.933364e+06</td>\n    </tr>\n    <tr>\n      <th>9</th>\n      <td>41173</td>\n      <td>안양시동안구</td>\n      <td>POINT (951807.794 1933614.710)</td>\n      <td>126.955503</td>\n      <td>37.400392</td>\n      <td>4</td>\n      <td>952168.294842</td>\n      <td>1.933263e+06</td>\n    </tr>\n    <tr>\n      <th>8</th>\n      <td>41171</td>\n      <td>안양시만안구</td>\n      <td>POINT (947905.642 1934053.266)</td>\n      <td>126.911386</td>\n      <td>37.404133</td>\n      <td>4</td>\n      <td>947445.512891</td>\n      <td>1.933663e+06</td>\n    </tr>\n    <tr>\n      <th>8</th>\n      <td>41171</td>\n      <td>안양시만안구</td>\n      <td>POINT (947905.642 1934053.266)</td>\n      <td>126.911386</td>\n      <td>37.404133</td>\n      <td>2</td>\n      <td>948216.852497</td>\n      <td>1.933666e+06</td>\n    </tr>\n    <tr>\n      <th>8</th>\n      <td>41171</td>\n      <td>안양시만안구</td>\n      <td>POINT (947905.642 1934053.266)</td>\n      <td>126.911386</td>\n      <td>37.404133</td>\n      <td>1</td>\n      <td>948243.023823</td>\n      <td>1.933652e+06</td>\n    </tr>\n    <tr>\n      <th>8</th>\n      <td>41171</td>\n      <td>안양시만안구</td>\n      <td>POINT (947905.642 1934053.266)</td>\n      <td>126.911386</td>\n      <td>37.404133</td>\n      <td>3</td>\n      <td>947545.507842</td>\n      <td>1.933631e+06</td>\n    </tr>\n    <tr>\n      <th>7</th>\n      <td>41150</td>\n      <td>의정부시</td>\n      <td>POINT (961973.274 1970818.278)</td>\n      <td>127.068423</td>\n      <td>37.736192</td>\n      <td>3</td>\n      <td>962364.102786</td>\n      <td>1.971104e+06</td>\n    </tr>\n    <tr>\n      <th>7</th>\n      <td>41150</td>\n      <td>의정부시</td>\n      <td>POINT (961973.274 1970818.278)</td>\n      <td>127.068423</td>\n      <td>37.736192</td>\n      <td>2</td>\n      <td>961532.542507</td>\n      <td>1.971107e+06</td>\n    </tr>\n    <tr>\n      <th>7</th>\n      <td>41150</td>\n      <td>의정부시</td>\n      <td>POINT (961973.274 1970818.278)</td>\n      <td>127.068423</td>\n      <td>37.736192</td>\n      <td>1</td>\n      <td>962292.703799</td>\n      <td>1.970499e+06</td>\n    </tr>\n    <tr>\n      <th>7</th>\n      <td>41150</td>\n      <td>의정부시</td>\n      <td>POINT (961973.274 1970818.278)</td>\n      <td>127.068423</td>\n      <td>37.736192</td>\n      <td>4</td>\n      <td>961577.556194</td>\n      <td>1.970370e+06</td>\n    </tr>\n  </tbody>\n</table>\n</div>"
     },
     "metadata": {},
     "execution_count": 89
    }
   ],
   "source": [
    "e2.sort_values(by=['sgg_nm'])"
   ]
  },
  {
   "cell_type": "code",
   "execution_count": null,
   "metadata": {},
   "outputs": [],
   "source": []
  }
 ],
 "metadata": {
  "kernelspec": {
   "name": "python386jvsc74a57bd01ee38ef4a5a9feb55287fd749643f13d043cb0a7addaab2a9c224cbe137c0062",
   "display_name": "Python 3.8.6 64-bit ('python@3.8')"
  },
  "language_info": {
   "codemirror_mode": {
    "name": "ipython",
    "version": 3
   },
   "file_extension": ".py",
   "mimetype": "text/x-python",
   "name": "python",
   "nbconvert_exporter": "python",
   "pygments_lexer": "ipython3",
   "version": "3.8.6"
  },
  "metadata": {
   "interpreter": {
    "hash": "1ee38ef4a5a9feb55287fd749643f13d043cb0a7addaab2a9c224cbe137c0062"
   }
  }
 },
 "nbformat": 4,
 "nbformat_minor": 4
}