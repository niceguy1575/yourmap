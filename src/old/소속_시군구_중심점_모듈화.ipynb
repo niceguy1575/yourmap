{
 "cells": [
  {
   "cell_type": "markdown",
   "metadata": {},
   "source": [
    "# 패키지 및 클래스 호출 "
   ]
  },
  {
   "cell_type": "code",
   "execution_count": 2,
   "metadata": {},
   "outputs": [],
   "source": [
    "import geopandas as gpd\n",
    "import pandas as pd\n",
    "import re\n",
    "import plotly.express as px\n",
    "import os \n",
    "\n",
    "from shapely.wkt import loads\n",
    "from glob import glob\n",
    "from plotly.offline import plot\n",
    "from shapely.geometry import Point\n"
   ]
  },
  {
   "cell_type": "code",
   "execution_count": null,
   "metadata": {},
   "outputs": [],
   "source": []
  },
  {
   "cell_type": "code",
   "execution_count": 97,
   "metadata": {},
   "outputs": [],
   "source": [
    "# 노션 지도 시각화 \n",
    "class notion_map:\n",
    "    def __init__(self,people,shp_path):\n",
    "        self.shp = pd.concat([gpd.read_file(file,encoding = 'utf-8') for file in glob(shp_path+\"/*.shp\")]).reset_index(drop = True)\n",
    "        self.people = pd.read_csv(people)\n",
    "        \n",
    "    def preprocessing(self):\n",
    "        # 이부분도 수정하거나 없어질 가능성 있음\n",
    "        self.people = self.people[self.people.columns[:3]].dropna()\n",
    "        self.people.loc[self.people.시도명 == '양주시','시도명'] = '경기도'\n",
    "        self.people.loc[self.people.시군구명 == '백석읍','시군구명'] = '양주시'\n",
    "        \n",
    "    def exp (self):\n",
    "        megas = self.people.시도명.apply(lambda x: x.replace(\" \",\"\"))\n",
    "        sggs= self.people.시군구명.apply(lambda x: x.replace(\" \",''))\n",
    "        centroid = [self.shp[((self.shp.MEGA_NM.apply(lambda x: re.search(mega,x)).isna()==False)&(self.shp.SIG_KOR_NM.apply(lambda x: re.search(sgg,x)).isna()==False))].centroid.tolist()[0] for mega,sgg in zip(megas,sggs)]\n",
    "        ple['centroid'] = centroid\n",
    "        \n",
    "        return self.people\n",
    "    \n",
    "    def __del__(self):\n",
    "        print(\"clear attribution\")\n",
    "\n",
    "class maps_visualization(notion_map):\n",
    "    def __init__(self,people,shp_path):\n",
    "        super().__init__(people,shp_path)\n",
    "        super().preprocessing()\n",
    "        super().exp()\n",
    "        \n",
    "    def visualization(self):\n",
    "        gdf = gpd.GeoDataFrame(self.people,geometry = self.people.centroid,crs = 5179)\n",
    "        # jitting 부분 (수정) <- 겹치는 경우가 2개이상일 경우는 고려되지 않았음 \n",
    "        gdf['row_num'] = gdf.groupby(['시도명','시군구명']).cumcount() + 1\n",
    "        gdf.geometry.x + 50\n",
    "        gdf['x'] = gdf.geometry.x\n",
    "        gdf['y'] = gdf.geometry.y\n",
    "        gdf.loc[gdf.row_num == 2,'x'] = gdf.loc[gdf.row_num == 2,'x'] + 50\n",
    "        gdf2 = gpd.GeoDataFrame(gdf,geometry = [Point(x,y) for x,y in zip(gdf.x,gdf.y)],crs = 5179)\n",
    "\n",
    "        # 좌표변환 (UTM-k -> WGS84)\n",
    "        gdf2 = gdf2.to_crs(4326)\n",
    "\n",
    "        gdf2['lon'] = gdf2.geometry.x\n",
    "        gdf2['lat'] = gdf2.geometry.y\n",
    "        self.gdf = gdf2[['Name','시도명','시군구명','lon','lat']]\n",
    "        return self.gdf\n",
    "    \n",
    "    def to_html(self,filename):        \n",
    "        fig = px.scatter_mapbox(self.gdf,lat = 'lat',lon = 'lon',hover_name = 'Name',mapbox_style = 'open-street-map')\n",
    "        plot(fig, filename=filename+'.html')\n",
    "        return os.getcwd()+\"/\"+filename+'.html'"
   ]
  },
  {
   "cell_type": "markdown",
   "metadata": {},
   "source": [
    "# 아래 과정(시도 정보 부여) 시군구 정보에 시도정보가 부여되어있다면 하지 않아도 무방합니다. "
   ]
  },
  {
   "cell_type": "markdown",
   "metadata": {},
   "source": [
    "### 전국의 시군구 정보 불러오기"
   ]
  },
  {
   "cell_type": "code",
   "execution_count": 8,
   "metadata": {},
   "outputs": [],
   "source": [
    "shp2 = gpd.read_file('TL_SCCO_SIG.shp',encoding = 'cp949')"
   ]
  },
  {
   "cell_type": "markdown",
   "metadata": {},
   "source": [
    "### 시도코드 정보 부여 & 시도명 부여 "
   ]
  },
  {
   "cell_type": "code",
   "execution_count": 16,
   "metadata": {},
   "outputs": [],
   "source": [
    "shp2['MEGA_CD'] = shp2.SIG_CD.apply(lambda x: int(str(x)[:2]))"
   ]
  },
  {
   "cell_type": "code",
   "execution_count": 20,
   "metadata": {},
   "outputs": [],
   "source": [
    "shp2 = shp2[shp2.MEGA_CD.isin([11,41,28])]"
   ]
  },
  {
   "cell_type": "code",
   "execution_count": 27,
   "metadata": {
    "collapsed": true,
    "jupyter": {
     "outputs_hidden": true
    }
   },
   "outputs": [
    {
     "name": "stderr",
     "output_type": "stream",
     "text": [
      "/usr/local/lib/python3.6/dist-packages/geopandas/geodataframe.py:853: SettingWithCopyWarning:\n",
      "\n",
      "\n",
      "A value is trying to be set on a copy of a slice from a DataFrame.\n",
      "Try using .loc[row_indexer,col_indexer] = value instead\n",
      "\n",
      "See the caveats in the documentation: https://pandas.pydata.org/pandas-docs/stable/user_guide/indexing.html#returning-a-view-versus-a-copy\n",
      "\n",
      "/usr/local/lib/python3.6/dist-packages/pandas/core/indexing.py:1763: SettingWithCopyWarning:\n",
      "\n",
      "\n",
      "A value is trying to be set on a copy of a slice from a DataFrame.\n",
      "Try using .loc[row_indexer,col_indexer] = value instead\n",
      "\n",
      "See the caveats in the documentation: https://pandas.pydata.org/pandas-docs/stable/user_guide/indexing.html#returning-a-view-versus-a-copy\n",
      "\n",
      "/usr/local/lib/python3.6/dist-packages/pandas/core/indexing.py:1763: SettingWithCopyWarning:\n",
      "\n",
      "\n",
      "A value is trying to be set on a copy of a slice from a DataFrame.\n",
      "Try using .loc[row_indexer,col_indexer] = value instead\n",
      "\n",
      "See the caveats in the documentation: https://pandas.pydata.org/pandas-docs/stable/user_guide/indexing.html#returning-a-view-versus-a-copy\n",
      "\n",
      "/usr/local/lib/python3.6/dist-packages/pandas/core/indexing.py:1763: SettingWithCopyWarning:\n",
      "\n",
      "\n",
      "A value is trying to be set on a copy of a slice from a DataFrame.\n",
      "Try using .loc[row_indexer,col_indexer] = value instead\n",
      "\n",
      "See the caveats in the documentation: https://pandas.pydata.org/pandas-docs/stable/user_guide/indexing.html#returning-a-view-versus-a-copy\n",
      "\n"
     ]
    }
   ],
   "source": [
    "shp2.loc[shp2.MEGA_CD == 41,'MEGA_NM'] = '경기도'\n",
    "shp2.loc[shp2.MEGA_CD == 11,'MEGA_NM'] = '서울시'\n",
    "shp2.loc[shp2.MEGA_CD == 28,'MEGA_NM'] = '인천시'"
   ]
  },
  {
   "cell_type": "markdown",
   "metadata": {},
   "source": [
    "###  .shp로 저장 "
   ]
  },
  {
   "cell_type": "code",
   "execution_count": 29,
   "metadata": {},
   "outputs": [],
   "source": [
    "shp2.to_file(\"SGG_ctr.shp\",encoding= 'utf-8')"
   ]
  },
  {
   "cell_type": "markdown",
   "metadata": {},
   "source": [
    "# 아래의 사항을 주의해주세요    \n",
    "> 1. shp.파일의 컬럼명-> 시도명은 MEGA_NM, 시군구명은 SIG_KOR_NM 혹시 다르다면, 코드 혹은 데이터 둘 중의 하나를 수정해주세요 \n",
    "> 2. notion_maps는 maps_visualization에 상속되어 있어 굳이 실행시키지 않으셔도 됩니다.  \n",
    "> 3. 시각화에 대한 옵션수정은 class에서 직접 수정해주셔야합니다. \n",
    "> 4. 기본적으로 하나의 과정이 끝나면 return하도록 되어있습니다. (혹시 return 되지않으신다면 해당 클래스의 속성을 직접 불러와주세요!)"
   ]
  },
  {
   "cell_type": "markdown",
   "metadata": {},
   "source": [
    "### 초기 정보 입력 "
   ]
  },
  {
   "cell_type": "code",
   "execution_count": 52,
   "metadata": {},
   "outputs": [],
   "source": [
    "shp_path = '/home/suyo1207/2021/notion/사내노션업데이트/' # shp파일 경로 (분할되어 있는 경우가 있어 경로로 입력하게 설정되어 있습니다. )\n",
    "\n",
    "csv_file = \"당신의 사는곳을 알려주세요 9572172efb494f81a1243b25bad749d8.csv\" # csv파일명"
   ]
  },
  {
   "cell_type": "markdown",
   "metadata": {},
   "source": [
    "### 클래스 실행 "
   ]
  },
  {
   "cell_type": "code",
   "execution_count": 101,
   "metadata": {},
   "outputs": [],
   "source": [
    "maps = maps_visualization(csv_file,shp_path)\n",
    "\n",
    "maps.visualization()\n",
    "\n",
    "maps2.to_html_file('sample')"
   ]
  }
 ],
 "metadata": {
  "kernelspec": {
   "name": "python386jvsc74a57bd01ee38ef4a5a9feb55287fd749643f13d043cb0a7addaab2a9c224cbe137c0062",
   "display_name": "Python 3.8.6 64-bit ('python@3.8')"
  },
  "language_info": {
   "codemirror_mode": {
    "name": "ipython",
    "version": 3
   },
   "file_extension": ".py",
   "mimetype": "text/x-python",
   "name": "python",
   "nbconvert_exporter": "python",
   "pygments_lexer": "ipython3",
   "version": "3.8.6"
  },
  "metadata": {
   "interpreter": {
    "hash": "1ee38ef4a5a9feb55287fd749643f13d043cb0a7addaab2a9c224cbe137c0062"
   }
  }
 },
 "nbformat": 4,
 "nbformat_minor": 4
}